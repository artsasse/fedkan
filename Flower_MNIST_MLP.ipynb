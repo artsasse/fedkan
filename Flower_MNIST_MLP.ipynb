{
  "cells": [
    {
      "cell_type": "markdown",
      "metadata": {
        "id": "view-in-github",
        "colab_type": "text"
      },
      "source": [
        "<a href=\"https://colab.research.google.com/github/artsasse/fedkan/blob/main/Flower_MNIST_MLP.ipynb\" target=\"_parent\"><img src=\"https://colab.research.google.com/assets/colab-badge.svg\" alt=\"Open In Colab\"/></a>"
      ]
    },
    {
      "cell_type": "markdown",
      "metadata": {
        "id": "O-k1Z1KHI6EC"
      },
      "source": [
        "# Using a Federated MLP to classify MNIST\n",
        "\n",
        "This notebook is based mainly on the Flower Tutorial \"Use a federated learning strategy\", found in https://flower.ai/docs/framework/tutorial-series-use-a-federated-learning-strategy-pytorch.html ."
      ]
    },
    {
      "cell_type": "markdown",
      "source": [
        "## Global Values"
      ],
      "metadata": {
        "id": "y_wbnJBW09_y"
      }
    },
    {
      "cell_type": "code",
      "source": [
        "NUM_PARTITIONS = 100\n",
        "BATCH_SIZE = 100\n",
        "LOCAL_EPOCHS = 1\n",
        "FRACTION_CLIENTS = 0.1\n",
        "COMM_ROUNDS = 3\n",
        "SEED = 1"
      ],
      "metadata": {
        "id": "HMGD8hzw1C05"
      },
      "execution_count": 38,
      "outputs": []
    },
    {
      "cell_type": "markdown",
      "metadata": {
        "id": "dYOHo7tsI6EE"
      },
      "source": [
        "## Dependencies"
      ]
    },
    {
      "cell_type": "code",
      "execution_count": 3,
      "metadata": {
        "id": "BOUqWBtaI6EE",
        "colab": {
          "base_uri": "https://localhost:8080/"
        },
        "outputId": "7299a83d-94df-4f8b-9a00-024ff2ec4018"
      },
      "outputs": [
        {
          "output_type": "stream",
          "name": "stdout",
          "text": [
            "\u001b[2K   \u001b[90m━━━━━━━━━━━━━━━━━━━━━━━━━━━━━━━━━━━━━━━━\u001b[0m \u001b[32m65.1/65.1 MB\u001b[0m \u001b[31m10.7 MB/s\u001b[0m eta \u001b[36m0:00:00\u001b[0m\n",
            "\u001b[2K   \u001b[90m━━━━━━━━━━━━━━━━━━━━━━━━━━━━━━━━━━━━━━━━\u001b[0m \u001b[32m40.8/40.8 MB\u001b[0m \u001b[31m25.6 MB/s\u001b[0m eta \u001b[36m0:00:00\u001b[0m\n",
            "\u001b[2K   \u001b[90m━━━━━━━━━━━━━━━━━━━━━━━━━━━━━━━━━━━━━━━━\u001b[0m \u001b[32m77.3/77.3 kB\u001b[0m \u001b[31m5.1 MB/s\u001b[0m eta \u001b[36m0:00:00\u001b[0m\n",
            "\u001b[2K   \u001b[90m━━━━━━━━━━━━━━━━━━━━━━━━━━━━━━━━━━━━━━━━\u001b[0m \u001b[32m3.9/3.9 MB\u001b[0m \u001b[31m78.2 MB/s\u001b[0m eta \u001b[36m0:00:00\u001b[0m\n",
            "\u001b[2K   \u001b[90m━━━━━━━━━━━━━━━━━━━━━━━━━━━━━━━━━━━━━━━━\u001b[0m \u001b[32m542.1/542.1 kB\u001b[0m \u001b[31m24.0 MB/s\u001b[0m eta \u001b[36m0:00:00\u001b[0m\n",
            "\u001b[2K   \u001b[90m━━━━━━━━━━━━━━━━━━━━━━━━━━━━━━━━━━━━━━━━\u001b[0m \u001b[32m172.0/172.0 kB\u001b[0m \u001b[31m10.1 MB/s\u001b[0m eta \u001b[36m0:00:00\u001b[0m\n",
            "\u001b[2K   \u001b[90m━━━━━━━━━━━━━━━━━━━━━━━━━━━━━━━━━━━━━━━━\u001b[0m \u001b[32m8.3/8.3 MB\u001b[0m \u001b[31m88.8 MB/s\u001b[0m eta \u001b[36m0:00:00\u001b[0m\n",
            "\u001b[2K   \u001b[90m━━━━━━━━━━━━━━━━━━━━━━━━━━━━━━━━━━━━━━━━\u001b[0m \u001b[32m294.6/294.6 kB\u001b[0m \u001b[31m13.2 MB/s\u001b[0m eta \u001b[36m0:00:00\u001b[0m\n",
            "\u001b[2K   \u001b[90m━━━━━━━━━━━━━━━━━━━━━━━━━━━━━━━━━━━━━━━━\u001b[0m \u001b[32m2.1/2.1 MB\u001b[0m \u001b[31m57.6 MB/s\u001b[0m eta \u001b[36m0:00:00\u001b[0m\n",
            "\u001b[2K   \u001b[90m━━━━━━━━━━━━━━━━━━━━━━━━━━━━━━━━━━━━━━━━\u001b[0m \u001b[32m46.0/46.0 kB\u001b[0m \u001b[31m2.7 MB/s\u001b[0m eta \u001b[36m0:00:00\u001b[0m\n",
            "\u001b[2K   \u001b[90m━━━━━━━━━━━━━━━━━━━━━━━━━━━━━━━━━━━━━━━━\u001b[0m \u001b[32m464.4/464.4 kB\u001b[0m \u001b[31m24.6 MB/s\u001b[0m eta \u001b[36m0:00:00\u001b[0m\n",
            "\u001b[2K   \u001b[90m━━━━━━━━━━━━━━━━━━━━━━━━━━━━━━━━━━━━━━━━\u001b[0m \u001b[32m73.0/73.0 kB\u001b[0m \u001b[31m4.6 MB/s\u001b[0m eta \u001b[36m0:00:00\u001b[0m\n",
            "\u001b[2K   \u001b[90m━━━━━━━━━━━━━━━━━━━━━━━━━━━━━━━━━━━━━━━━\u001b[0m \u001b[32m116.3/116.3 kB\u001b[0m \u001b[31m7.9 MB/s\u001b[0m eta \u001b[36m0:00:00\u001b[0m\n",
            "\u001b[2K   \u001b[90m━━━━━━━━━━━━━━━━━━━━━━━━━━━━━━━━━━━━━━━━\u001b[0m \u001b[32m134.8/134.8 kB\u001b[0m \u001b[31m8.5 MB/s\u001b[0m eta \u001b[36m0:00:00\u001b[0m\n",
            "\u001b[2K   \u001b[90m━━━━━━━━━━━━━━━━━━━━━━━━━━━━━━━━━━━━━━━━\u001b[0m \u001b[32m194.1/194.1 kB\u001b[0m \u001b[31m12.6 MB/s\u001b[0m eta \u001b[36m0:00:00\u001b[0m\n",
            "\u001b[?25h\u001b[31mERROR: pip's dependency resolver does not currently take into account all the packages that are installed. This behaviour is the source of the following dependency conflicts.\n",
            "cudf-cu12 24.4.1 requires pyarrow<15.0.0a0,>=14.0.1, but you have pyarrow 16.1.0 which is incompatible.\n",
            "gcsfs 2024.6.1 requires fsspec==2024.6.1, but you have fsspec 2024.3.1 which is incompatible.\n",
            "ibis-framework 8.0.0 requires pyarrow<16,>=2, but you have pyarrow 16.1.0 which is incompatible.\n",
            "tensorflow-metadata 1.15.0 requires protobuf<4.21,>=3.20.3; python_version < \"3.11\", but you have protobuf 4.25.4 which is incompatible.\u001b[0m\u001b[31m\n",
            "\u001b[0m"
          ]
        }
      ],
      "source": [
        "pip install -q flwr[simulation] flwr-datasets[vision] torch torchvision pykan"
      ]
    },
    {
      "cell_type": "code",
      "execution_count": 78,
      "metadata": {
        "id": "Y25quxLmI6EF",
        "colab": {
          "base_uri": "https://localhost:8080/"
        },
        "outputId": "c0abe207-9dc1-4674-8663-08d6e7e147a7"
      },
      "outputs": [
        {
          "output_type": "stream",
          "name": "stdout",
          "text": [
            "Training on cpu\n",
            "Flower 1.11.0 / PyTorch 2.4.0+cu121\n"
          ]
        },
        {
          "output_type": "stream",
          "name": "stderr",
          "text": [
            "/usr/local/lib/python3.10/dist-packages/ipykernel/ipkernel.py:283: DeprecationWarning: `should_run_async` will not call `transform_cell` automatically in the future. Please pass the result to `transformed_cell` argument and any exception that happen during thetransform in `preprocessing_exc_tuple` in IPython 7.17 and above.\n",
            "  and should_run_async(code)\n"
          ]
        }
      ],
      "source": [
        "from collections import OrderedDict\n",
        "from typing import Dict, List, Optional, Tuple\n",
        "\n",
        "import random\n",
        "import os\n",
        "from logging import INFO\n",
        "\n",
        "import numpy as np\n",
        "import matplotlib.pyplot as plt\n",
        "import torch\n",
        "import torch.nn as nn\n",
        "import torch.nn.functional as F\n",
        "import torchvision.transforms as transforms\n",
        "from torch.utils.data import DataLoader\n",
        "\n",
        "import flwr\n",
        "from flwr.client import Client, ClientApp, NumPyClient\n",
        "from flwr.server import ServerApp, ServerConfig, ServerAppComponents, SimpleClientManager\n",
        "from flwr.server.strategy import FedAvg, FedAdagrad\n",
        "from flwr.simulation import run_simulation, start_simulation\n",
        "from flwr_datasets import FederatedDataset\n",
        "from flwr.common import ndarrays_to_parameters, NDArrays, Scalar, Context\n",
        "from flwr.common.logger import log\n",
        "from flwr.server.client_proxy import ClientProxy\n",
        "from flwr.server.criterion import Criterion\n",
        "\n",
        "from kan import KAN\n",
        "\n",
        "# Preciso alterar o runtime para usar GPU (SASSE)\n",
        "# DEVICE = torch.device(\"cuda\")  # Try \"cuda\" to train on GPU\n",
        "DEVICE = torch.device(\"cpu\")  # Run training on CPU\n",
        "print(f\"Training on {DEVICE}\")\n",
        "print(f\"Flower {flwr.__version__} / PyTorch {torch.__version__}\")"
      ]
    },
    {
      "cell_type": "markdown",
      "metadata": {
        "id": "C6jR8cN7I6EG"
      },
      "source": [
        "## Data loading"
      ]
    },
    {
      "cell_type": "code",
      "execution_count": 72,
      "metadata": {
        "id": "tc70GEH5I6EH"
      },
      "outputs": [],
      "source": [
        "def load_datasets(partition_id: int, num_partitions: int):\n",
        "\n",
        "    pytorch_transforms = transforms.Compose(\n",
        "        [transforms.ToTensor(),\n",
        "         transforms.Normalize((0.5,), (0.5,)),\n",
        "         transforms.Lambda(lambda x: torch.flatten(x))  # Flatten the image into a 1D tensor\n",
        "         ]\n",
        "    )\n",
        "\n",
        "    def apply_transforms(batch):\n",
        "        batch[\"image\"] = [pytorch_transforms(img) for img in batch[\"image\"]]\n",
        "        return batch\n",
        "\n",
        "    # def seed_worker(worker_id):\n",
        "    #   worker_seed = torch.initial_seed() % 2**32\n",
        "    #   np.random.seed(worker_seed)\n",
        "    #   random.seed(worker_seed)\n",
        "\n",
        "    # g = torch.Generator()\n",
        "    # g.manual_seed(SEED)\n",
        "\n",
        "    fds = FederatedDataset(dataset=\"mnist\", partitioners={\"train\": num_partitions})\n",
        "    partition = fds.load_partition(partition_id).with_transform(apply_transforms)\n",
        "    trainloader = DataLoader(partition, batch_size=BATCH_SIZE, shuffle=True,\n",
        "                            #  worker_init_fn=seed_worker, generator=g\n",
        "                             )\n",
        "\n",
        "    testset = fds.load_split(\"test\").with_transform(apply_transforms)\n",
        "    testloader = DataLoader(testset, batch_size=BATCH_SIZE,\n",
        "                            # worker_init_fn=seed_worker, generator=g\n",
        "                            )\n",
        "\n",
        "    return trainloader, testloader"
      ]
    },
    {
      "cell_type": "markdown",
      "metadata": {
        "id": "OyV6x7CAI6EH"
      },
      "source": [
        "## Model training/evaluation (PyTorch)"
      ]
    },
    {
      "cell_type": "code",
      "execution_count": 6,
      "metadata": {
        "id": "UkgcOZYyI6EH"
      },
      "outputs": [],
      "source": [
        "class Net(nn.Module):\n",
        "\n",
        "    def __init__(self) -> None:\n",
        "        super(Net, self).__init__()\n",
        "        self.layer1 = nn.Linear(28 * 28, 200)  # 28 x 28 pixels\n",
        "        self.layer2 = nn.Linear(200, 200)  # 2 hidden layers with 200 neurons each\n",
        "        self.layer3 = nn.Linear(200, 10)  # 10 classes\n",
        "        self.relu = nn.ReLU()\n",
        "        self.softmax = nn.Softmax(dim=1)\n",
        "\n",
        "    def forward(self, x: torch.Tensor) -> torch.Tensor:\n",
        "        x = self.relu(self.layer1(x))\n",
        "        x = self.relu(self.layer2(x))\n",
        "        x = self.softmax(self.layer3(x))\n",
        "        return x\n",
        "\n",
        "# class Net(KAN):\n",
        "#     def __init__(self) -> None:\n",
        "#         super().__init__([28 * 28, 24, 24, 10])\n",
        "\n",
        "\n",
        "def get_parameters(net) -> List[np.ndarray]:\n",
        "    return [val.cpu().numpy() for _, val in net.state_dict().items()]\n",
        "\n",
        "\n",
        "def set_parameters(net, parameters: List[np.ndarray]):\n",
        "    params_dict = zip(net.state_dict().keys(), parameters)\n",
        "    state_dict = OrderedDict({k: torch.Tensor(v) for k, v in params_dict})\n",
        "    net.load_state_dict(state_dict, strict=True)\n",
        "\n",
        "\n",
        "def train(net, trainloader, epochs: int):\n",
        "    \"\"\"Train the network on the training set.\"\"\"\n",
        "    criterion = torch.nn.CrossEntropyLoss()\n",
        "    optimizer = torch.optim.SGD(net.parameters(), lr=0.1, momentum=0.9)\n",
        "    net.train()\n",
        "    for epoch in range(epochs):\n",
        "        correct, total, epoch_loss = 0, 0, 0.0\n",
        "        for batch in trainloader:\n",
        "            images, labels = batch[\"image\"], batch[\"label\"]\n",
        "            images, labels = images.to(DEVICE), labels.to(DEVICE)\n",
        "            optimizer.zero_grad()\n",
        "            outputs = net(images)\n",
        "            loss = criterion(net(images), labels)\n",
        "            loss.backward()\n",
        "            optimizer.step()\n",
        "            # Metrics\n",
        "            epoch_loss += loss\n",
        "            total += labels.size(0)\n",
        "            correct += (torch.max(outputs.data, 1)[1] == labels).sum().item()\n",
        "        epoch_loss /= len(trainloader.dataset)\n",
        "        epoch_acc = correct / total\n",
        "        print(f\"Epoch {epoch+1}: train loss {epoch_loss}, accuracy {epoch_acc}\")\n",
        "\n",
        "\n",
        "def test(net, testloader):\n",
        "    \"\"\"Evaluate the network on the entire test set.\"\"\"\n",
        "    criterion = torch.nn.CrossEntropyLoss()\n",
        "    correct, total, loss = 0, 0, 0.0\n",
        "    net.eval()\n",
        "    with torch.no_grad():\n",
        "        for batch in testloader:\n",
        "            images, labels = batch[\"image\"], batch[\"label\"]\n",
        "            images, labels = images.to(DEVICE), labels.to(DEVICE)\n",
        "            outputs = net(images)\n",
        "            loss += criterion(outputs, labels).item()\n",
        "            _, predicted = torch.max(outputs.data, 1)\n",
        "            total += labels.size(0)\n",
        "            correct += (predicted == labels).sum().item()\n",
        "    loss /= len(testloader.dataset)\n",
        "    accuracy = correct / total\n",
        "    return loss, accuracy"
      ]
    },
    {
      "cell_type": "markdown",
      "source": [
        "## Flower Architecture"
      ],
      "metadata": {
        "id": "CnePIVzhvnwa"
      }
    },
    {
      "cell_type": "markdown",
      "metadata": {
        "id": "fa_57hXVI6EH"
      },
      "source": [
        "### Flower client"
      ]
    },
    {
      "cell_type": "code",
      "execution_count": 7,
      "metadata": {
        "id": "vmaFziBmI6EH"
      },
      "outputs": [],
      "source": [
        "class FlowerClient(NumPyClient):\n",
        "    def __init__(self, pid, net, trainloader, valloader=None):\n",
        "        self.pid = pid  # partition ID of a client\n",
        "        self.net = net\n",
        "        self.trainloader = trainloader\n",
        "        self.valloader = valloader\n",
        "\n",
        "    def get_parameters(self, config):\n",
        "        print(f\"[Client {self.pid}] get_parameters\")\n",
        "        return get_parameters(self.net)\n",
        "\n",
        "    def fit(self, parameters, config):\n",
        "        # Read values from config\n",
        "        server_round = config[\"server_round\"]\n",
        "        local_epochs = config[\"local_epochs\"]\n",
        "\n",
        "        # Use values provided by the config\n",
        "        print(f\"[Client {self.pid}, round {server_round}] fit, config: {config}\")\n",
        "        set_parameters(self.net, parameters)\n",
        "        train(self.net, self.trainloader, epochs=local_epochs)\n",
        "        return get_parameters(self.net), len(self.trainloader), {}\n",
        "\n",
        "    def evaluate(self, parameters, config):\n",
        "        print(f\"[Client {self.pid}] evaluate, config: {config}\")\n",
        "        set_parameters(self.net, parameters)\n",
        "        loss, accuracy = test(self.net, self.valloader)\n",
        "        return float(loss), len(self.valloader), {\"accuracy\": float(accuracy)}\n",
        "\n",
        "\n",
        "def client_fn(context: Context) -> Client:\n",
        "    net = Net().to(DEVICE)\n",
        "    partition_id = context.node_config[\"partition-id\"]\n",
        "    num_partitions = context.node_config[\"num-partitions\"]\n",
        "    trainloader, _ = load_datasets(partition_id, num_partitions)\n",
        "    return FlowerClient(partition_id, net, trainloader).to_client()"
      ]
    },
    {
      "cell_type": "markdown",
      "metadata": {
        "id": "i7EY7Ev5I6EJ"
      },
      "source": [
        "### Server-side parameter **evaluation**"
      ]
    },
    {
      "cell_type": "markdown",
      "source": [
        "#### Save evaluation results"
      ],
      "metadata": {
        "id": "ct5CM8Qswl_1"
      }
    },
    {
      "cell_type": "code",
      "source": [
        "history = {\"accuracy\": [], \"loss\": []}\n",
        "def save_history(server_round: int, accuracy: float, loss: float):\n",
        "    history[\"accuracy\"].append((accuracy, server_round))\n",
        "    history[\"loss\"].append((loss, server_round))"
      ],
      "metadata": {
        "id": "7c9pe5BHwrxQ"
      },
      "execution_count": 41,
      "outputs": []
    },
    {
      "cell_type": "markdown",
      "source": [
        "#### Evaluation function"
      ],
      "metadata": {
        "id": "7OZV59Hi6xUV"
      }
    },
    {
      "cell_type": "code",
      "execution_count": 42,
      "metadata": {
        "id": "qIXUNjPsI6EJ"
      },
      "outputs": [],
      "source": [
        "# The `evaluate` function will be called by Flower after every round\n",
        "def evaluate(\n",
        "    server_round: int,\n",
        "    parameters: NDArrays,\n",
        "    config: Dict[str, Scalar],\n",
        ") -> Optional[Tuple[float, Dict[str, Scalar]]]:\n",
        "    net = Net().to(DEVICE)\n",
        "    _, testloader = load_datasets(0, NUM_PARTITIONS)\n",
        "    set_parameters(net, parameters)  # Update model with the latest parameters\n",
        "    loss, accuracy = test(net, testloader)\n",
        "    print(f\"Server-side evaluation loss {loss} / accuracy {accuracy}\")\n",
        "    save_history(server_round, accuracy, loss)\n",
        "    return loss, {\"accuracy\": accuracy}"
      ]
    },
    {
      "cell_type": "markdown",
      "metadata": {
        "id": "Gttp2GVqI6EJ"
      },
      "source": [
        "### Training **Configuration** (e.g. epochs)\n",
        "\n",
        "\n"
      ]
    },
    {
      "cell_type": "code",
      "execution_count": 43,
      "metadata": {
        "id": "vuHrYQVYI6EJ"
      },
      "outputs": [],
      "source": [
        "def fit_config(server_round: int):\n",
        "    \"\"\"Return training configuration dict for each round.\n",
        "\n",
        "    \"\"\"\n",
        "    config = {\n",
        "        \"server_round\": server_round,  # The current round of federated learning\n",
        "        \"local_epochs\": LOCAL_EPOCHS,\n",
        "    }\n",
        "    return config"
      ]
    },
    {
      "cell_type": "markdown",
      "metadata": {
        "id": "uzF0C1qhI6EJ"
      },
      "source": [
        "### Flower **Server**"
      ]
    },
    {
      "cell_type": "markdown",
      "source": [
        "#### Client Manager with Reproducible Sampling"
      ],
      "metadata": {
        "id": "I1uw9pMCzvSp"
      }
    },
    {
      "cell_type": "code",
      "source": [
        "def reproducible_sample(available_cids, num_clients):\n",
        "    return random.sample(available_cids, num_clients)\n",
        "\n",
        "class ReproducibleClientManager(SimpleClientManager):\n",
        "    # Override sample method\n",
        "    def sample(\n",
        "        self,\n",
        "        num_clients: int,\n",
        "        min_num_clients: Optional[int] = None,\n",
        "        criterion: Optional[Criterion] = None,\n",
        "    ) -> List[ClientProxy]:\n",
        "        \"\"\"Sample a number of Flower ClientProxy instances.\"\"\"\n",
        "        # Block until at least num_clients are connected.\n",
        "        if min_num_clients is None:\n",
        "            min_num_clients = num_clients\n",
        "        self.wait_for(min_num_clients)\n",
        "        # Sample clients which meet the criterion\n",
        "        available_cids = list(self.clients)\n",
        "        if criterion is not None:\n",
        "            available_cids = [\n",
        "                cid for cid in available_cids if criterion.select(self.clients[cid])\n",
        "            ]\n",
        "\n",
        "        if num_clients > len(available_cids):\n",
        "            log(\n",
        "                INFO,\n",
        "                \"Sampling failed: number of available clients\"\n",
        "                \" (%s) is less than number of requested clients (%s).\",\n",
        "                len(available_cids),\n",
        "                num_clients,\n",
        "            )\n",
        "            return []\n",
        "\n",
        "        sampled_cids = reproducible_sample(available_cids, num_clients)\n",
        "        return [self.clients[cid] for cid in sampled_cids]"
      ],
      "metadata": {
        "colab": {
          "base_uri": "https://localhost:8080/"
        },
        "id": "oR93oriLz3jv",
        "outputId": "64948ef7-c1d3-4cd7-d8c9-cd1ec4f4d66b"
      },
      "execution_count": 106,
      "outputs": [
        {
          "output_type": "stream",
          "name": "stderr",
          "text": [
            "/usr/local/lib/python3.10/dist-packages/ipykernel/ipkernel.py:283: DeprecationWarning: `should_run_async` will not call `transform_cell` automatically in the future. Please pass the result to `transformed_cell` argument and any exception that happen during thetransform in `preprocessing_exc_tuple` in IPython 7.17 and above.\n",
            "  and should_run_async(code)\n"
          ]
        }
      ]
    },
    {
      "cell_type": "code",
      "execution_count": 81,
      "metadata": {
        "id": "SXvblF7nI6EJ",
        "collapsed": true,
        "colab": {
          "base_uri": "https://localhost:8080/"
        },
        "outputId": "780be534-2ec2-4cc8-9664-36820ec2a7b6"
      },
      "outputs": [
        {
          "output_type": "stream",
          "name": "stderr",
          "text": [
            "/usr/local/lib/python3.10/dist-packages/ipykernel/ipkernel.py:283: DeprecationWarning: `should_run_async` will not call `transform_cell` automatically in the future. Please pass the result to `transformed_cell` argument and any exception that happen during thetransform in `preprocessing_exc_tuple` in IPython 7.17 and above.\n",
            "  and should_run_async(code)\n"
          ]
        }
      ],
      "source": [
        "def server_fn(context: Context) -> ServerAppComponents:\n",
        "    # Create FedAvg strategy\n",
        "    strategy = FedAvg(\n",
        "        fraction_fit=FRACTION_CLIENTS,\n",
        "        fraction_evaluate=0,\n",
        "        min_fit_clients=1,\n",
        "        min_evaluate_clients=0,\n",
        "        min_available_clients=NUM_PARTITIONS,\n",
        "        initial_parameters=ndarrays_to_parameters(params),\n",
        "        evaluate_fn=evaluate,\n",
        "        on_fit_config_fn=fit_config,  # Pass the fit_config function\n",
        "    )\n",
        "\n",
        "    # Create ClientManager with reproducible sampling\n",
        "    client_manager = ReproducibleClientManager()\n",
        "\n",
        "    config = ServerConfig(num_rounds=COMM_ROUNDS)\n",
        "    return ServerAppComponents(strategy=strategy, config=config, client_manager=client_manager)"
      ]
    },
    {
      "cell_type": "markdown",
      "source": [
        "## Simulation"
      ],
      "metadata": {
        "id": "GTENQaquvyQB"
      }
    },
    {
      "cell_type": "markdown",
      "source": [
        "### Seed and Reproducibility Setup"
      ],
      "metadata": {
        "id": "Uixq8Law8JQ-"
      }
    },
    {
      "cell_type": "code",
      "source": [
        "torch.manual_seed(SEED)\n",
        "random.seed(SEED)\n",
        "np.random.seed(SEED)\n",
        "os.environ[\"PYTHONHASHSEED\"] = str(SEED)\n",
        "torch.use_deterministic_algorithms(True)\n",
        "torch.backends.cudnn.benchmark = False\n",
        "torch.backends.cudnn.deterministic = True"
      ],
      "metadata": {
        "id": "cfg4HAEQ8UBW"
      },
      "execution_count": 116,
      "outputs": []
    },
    {
      "cell_type": "markdown",
      "metadata": {
        "id": "03QjhHjc6YhJ"
      },
      "source": [
        "### Global model **initialization**"
      ]
    },
    {
      "cell_type": "code",
      "execution_count": 117,
      "metadata": {
        "colab": {
          "base_uri": "https://localhost:8080/"
        },
        "outputId": "f0fd4209-471e-407f-b0a4-2545a44450d8",
        "id": "Ob6G6nzf6YhP"
      },
      "outputs": [
        {
          "output_type": "stream",
          "name": "stdout",
          "text": [
            "Total number of parameters: 199210\n"
          ]
        }
      ],
      "source": [
        "# Create an instance of the model and get the parameters\n",
        "initial_model = Net()\n",
        "params = get_parameters(initial_model)\n",
        "total_params = sum(p.numel() for p in initial_model.parameters() if p.requires_grad)\n",
        "print(f\"Total number of parameters: {total_params}\")"
      ]
    },
    {
      "cell_type": "markdown",
      "source": [
        "### Run Simulation 1"
      ],
      "metadata": {
        "id": "097-NdhcvNJR"
      }
    },
    {
      "cell_type": "code",
      "source": [
        "# Define hardware resources\n",
        "if DEVICE.type == \"cuda\":\n",
        "    backend_config = {\"client_resources\": {\"num_gpus\": 0.5, \"num_cpus\": 2}}\n",
        "else:\n",
        "    backend_config = {\"num_cpus\": 2}\n",
        "\n",
        "# Create Apps\n",
        "client = ClientApp(client_fn=client_fn)\n",
        "server = ServerApp(server_fn=server_fn)\n",
        "\n",
        "# Define new history\n",
        "history = {\"accuracy\": [], \"loss\": []}\n",
        "\n",
        "# Run simulation\n",
        "run_simulation(\n",
        "    server_app=server,\n",
        "    client_app=client,\n",
        "    num_supernodes=NUM_PARTITIONS,\n",
        "    backend_config=backend_config,\n",
        ")"
      ],
      "metadata": {
        "colab": {
          "base_uri": "https://localhost:8080/"
        },
        "id": "GRDtQsvsvMUN",
        "outputId": "15049e04-8987-43a4-bf4e-0b4c8dfb8e36",
        "collapsed": true
      },
      "execution_count": 115,
      "outputs": [
        {
          "output_type": "stream",
          "name": "stderr",
          "text": [
            "\u001b[92mINFO \u001b[0m:      Starting Flower ServerApp, config: num_rounds=3, no round_timeout\n",
            "\u001b[92mINFO \u001b[0m:      \n",
            "\u001b[92mINFO \u001b[0m:      [INIT]\n",
            "\u001b[92mINFO \u001b[0m:      Using initial global parameters provided by strategy\n",
            "\u001b[92mINFO \u001b[0m:      Starting evaluation of initial global parameters\n",
            "/usr/lib/python3.10/subprocess.py:1796: RuntimeWarning: os.fork() was called. os.fork() is incompatible with multithreaded code, and JAX is multithreaded, so this will likely lead to a deadlock.\n",
            "  self.pid = _posixsubprocess.fork_exec(\n",
            "/usr/lib/python3.10/subprocess.py:1796: RuntimeWarning: os.fork() was called. os.fork() is incompatible with multithreaded code, and JAX is multithreaded, so this will likely lead to a deadlock.\n",
            "  self.pid = _posixsubprocess.fork_exec(\n",
            "\u001b[92mINFO \u001b[0m:      initial parameters (loss, other metrics): 0.0230280880689621, {'accuracy': 0.112}\n",
            "\u001b[92mINFO \u001b[0m:      \n",
            "\u001b[92mINFO \u001b[0m:      [ROUND 1]\n",
            "\u001b[92mINFO \u001b[0m:      configure_fit: strategy sampled 10 clients (out of 100)\n"
          ]
        },
        {
          "output_type": "stream",
          "name": "stdout",
          "text": [
            "Server-side evaluation loss 0.0230280880689621 / accuracy 0.112\n"
          ]
        },
        {
          "output_type": "stream",
          "name": "stderr",
          "text": [
            "\u001b[36m(pid=38528)\u001b[0m 2024-08-30 20:06:47.545751: E external/local_xla/xla/stream_executor/cuda/cuda_fft.cc:485] Unable to register cuFFT factory: Attempting to register factory for plugin cuFFT when one has already been registered\n",
            "\u001b[36m(pid=38528)\u001b[0m 2024-08-30 20:06:47.570625: E external/local_xla/xla/stream_executor/cuda/cuda_dnn.cc:8454] Unable to register cuDNN factory: Attempting to register factory for plugin cuDNN when one has already been registered\n",
            "\u001b[36m(pid=38528)\u001b[0m 2024-08-30 20:06:47.577806: E external/local_xla/xla/stream_executor/cuda/cuda_blas.cc:1452] Unable to register cuBLAS factory: Attempting to register factory for plugin cuBLAS when one has already been registered\n",
            "\u001b[36m(pid=38528)\u001b[0m 2024-08-30 20:06:49.080743: W tensorflow/compiler/tf2tensorrt/utils/py_utils.cc:38] TF-TRT Warning: Could not find TensorRT\n",
            "\u001b[36m(ClientAppActor pid=38528)\u001b[0m /usr/local/lib/python3.10/dist-packages/jupyter_client/connect.py:28: DeprecationWarning: Jupyter is migrating its paths to use standard platformdirs\n",
            "\u001b[36m(ClientAppActor pid=38528)\u001b[0m given by the platformdirs library.  To remove this warning and\n",
            "\u001b[36m(ClientAppActor pid=38528)\u001b[0m see the appropriate new directories, set the environment variable\n",
            "\u001b[36m(ClientAppActor pid=38528)\u001b[0m `JUPYTER_PLATFORM_DIRS=1` and then run `jupyter --paths`.\n",
            "\u001b[36m(ClientAppActor pid=38528)\u001b[0m The use of platformdirs will be the default in `jupyter_core` v6\n",
            "\u001b[36m(ClientAppActor pid=38528)\u001b[0m   from jupyter_core.paths import jupyter_data_dir, jupyter_runtime_dir, secure_write\n"
          ]
        },
        {
          "output_type": "stream",
          "name": "stdout",
          "text": [
            "\u001b[36m(ClientAppActor pid=38528)\u001b[0m [Client 3, round 1] fit, config: {'server_round': 1, 'local_epochs': 1}\n",
            "\u001b[36m(ClientAppActor pid=38528)\u001b[0m Epoch 1: train loss 0.023014912381768227, accuracy 0.11666666666666667\n",
            "\u001b[36m(ClientAppActor pid=38528)\u001b[0m [Client 5, round 1] fit, config: {'server_round': 1, 'local_epochs': 1}\n",
            "\u001b[36m(ClientAppActor pid=38528)\u001b[0m Epoch 1: train loss 0.023013418540358543, accuracy 0.135\n",
            "\u001b[36m(ClientAppActor pid=38528)\u001b[0m [Client 7, round 1] fit, config: {'server_round': 1, 'local_epochs': 1}\n",
            "\u001b[36m(ClientAppActor pid=38528)\u001b[0m Epoch 1: train loss 0.023015806451439857, accuracy 0.13666666666666666\n",
            "\u001b[36m(ClientAppActor pid=38528)\u001b[0m [Client 35, round 1] fit, config: {'server_round': 1, 'local_epochs': 1}\n",
            "\u001b[36m(ClientAppActor pid=38528)\u001b[0m Epoch 1: train loss 0.0230153426527977, accuracy 0.145\n",
            "\u001b[36m(ClientAppActor pid=38528)\u001b[0m [Client 63, round 1] fit, config: {'server_round': 1, 'local_epochs': 1}\n",
            "\u001b[36m(ClientAppActor pid=38528)\u001b[0m Epoch 1: train loss 0.023020150139927864, accuracy 0.11333333333333333\n",
            "\u001b[36m(ClientAppActor pid=38528)\u001b[0m [Client 87, round 1] fit, config: {'server_round': 1, 'local_epochs': 1}\n",
            "\u001b[36m(ClientAppActor pid=38528)\u001b[0m Epoch 1: train loss 0.023016300052404404, accuracy 0.13666666666666666\n",
            "\u001b[36m(ClientAppActor pid=38528)\u001b[0m [Client 15, round 1] fit, config: {'server_round': 1, 'local_epochs': 1}\n",
            "\u001b[36m(ClientAppActor pid=38528)\u001b[0m Epoch 1: train loss 0.023016387596726418, accuracy 0.13666666666666666\n",
            "\u001b[36m(ClientAppActor pid=38528)\u001b[0m [Client 94, round 1] fit, config: {'server_round': 1, 'local_epochs': 1}\n",
            "\u001b[36m(ClientAppActor pid=38528)\u001b[0m Epoch 1: train loss 0.023012856021523476, accuracy 0.155\n",
            "\u001b[36m(ClientAppActor pid=38528)\u001b[0m [Client 52, round 1] fit, config: {'server_round': 1, 'local_epochs': 1}\n",
            "\u001b[36m(ClientAppActor pid=38528)\u001b[0m Epoch 1: train loss 0.02301584929227829, accuracy 0.14166666666666666\n",
            "\u001b[36m(ClientAppActor pid=38528)\u001b[0m [Client 8, round 1] fit, config: {'server_round': 1, 'local_epochs': 1}\n",
            "\u001b[36m(ClientAppActor pid=38528)\u001b[0m Epoch 1: train loss 0.023015355691313744, accuracy 0.14666666666666667\n"
          ]
        },
        {
          "output_type": "stream",
          "name": "stderr",
          "text": [
            "\u001b[92mINFO \u001b[0m:      aggregate_fit: received 10 results and 0 failures\n",
            "\u001b[93mWARNING \u001b[0m:   No fit_metrics_aggregation_fn provided\n",
            "\u001b[92mINFO \u001b[0m:      fit progress: (1, 0.022988128733634948, {'accuracy': 0.2526}, 32.29985429200042)\n",
            "\u001b[92mINFO \u001b[0m:      configure_evaluate: no clients selected, skipping evaluation\n",
            "\u001b[92mINFO \u001b[0m:      \n",
            "\u001b[92mINFO \u001b[0m:      [ROUND 2]\n",
            "\u001b[92mINFO \u001b[0m:      configure_fit: strategy sampled 10 clients (out of 100)\n"
          ]
        },
        {
          "output_type": "stream",
          "name": "stdout",
          "text": [
            "Server-side evaluation loss 0.022988128733634948 / accuracy 0.2526\n",
            "\u001b[36m(ClientAppActor pid=38528)\u001b[0m [Client 7, round 2] fit, config: {'server_round': 2, 'local_epochs': 1}\n",
            "\u001b[36m(ClientAppActor pid=38528)\u001b[0m Epoch 1: train loss 0.022978387773036957, accuracy 0.24\n",
            "\u001b[36m(ClientAppActor pid=38528)\u001b[0m [Client 33, round 2] fit, config: {'server_round': 2, 'local_epochs': 1}\n",
            "\u001b[36m(ClientAppActor pid=38528)\u001b[0m Epoch 1: train loss 0.022978832945227623, accuracy 0.285\n",
            "\u001b[36m(ClientAppActor pid=38528)\u001b[0m [Client 38, round 2] fit, config: {'server_round': 2, 'local_epochs': 1}\n",
            "\u001b[36m(ClientAppActor pid=38528)\u001b[0m Epoch 1: train loss 0.02298007905483246, accuracy 0.215\n",
            "\u001b[36m(ClientAppActor pid=38528)\u001b[0m [Client 78, round 2] fit, config: {'server_round': 2, 'local_epochs': 1}\n",
            "\u001b[36m(ClientAppActor pid=38528)\u001b[0m Epoch 1: train loss 0.02296648733317852, accuracy 0.245\n",
            "\u001b[36m(ClientAppActor pid=38528)\u001b[0m [Client 83, round 2] fit, config: {'server_round': 2, 'local_epochs': 1}\n",
            "\u001b[36m(ClientAppActor pid=38528)\u001b[0m Epoch 1: train loss 0.022979123517870903, accuracy 0.27666666666666667\n",
            "\u001b[36m(ClientAppActor pid=38528)\u001b[0m [Client 93, round 2] fit, config: {'server_round': 2, 'local_epochs': 1}\n",
            "\u001b[36m(ClientAppActor pid=38528)\u001b[0m Epoch 1: train loss 0.02297207899391651, accuracy 0.25\n",
            "\u001b[36m(ClientAppActor pid=38528)\u001b[0m [Client 37, round 2] fit, config: {'server_round': 2, 'local_epochs': 1}\n",
            "\u001b[36m(ClientAppActor pid=38528)\u001b[0m Epoch 1: train loss 0.022976137697696686, accuracy 0.25166666666666665\n",
            "\u001b[36m(ClientAppActor pid=38528)\u001b[0m [Client 28, round 2] fit, config: {'server_round': 2, 'local_epochs': 1}\n",
            "\u001b[36m(ClientAppActor pid=38528)\u001b[0m Epoch 1: train loss 0.02297445945441723, accuracy 0.22\n",
            "\u001b[36m(ClientAppActor pid=38528)\u001b[0m [Client 75, round 2] fit, config: {'server_round': 2, 'local_epochs': 1}\n",
            "\u001b[36m(ClientAppActor pid=38528)\u001b[0m Epoch 1: train loss 0.022979838773608208, accuracy 0.2783333333333333\n",
            "\u001b[36m(ClientAppActor pid=38528)\u001b[0m [Client 31, round 2] fit, config: {'server_round': 2, 'local_epochs': 1}\n"
          ]
        },
        {
          "output_type": "stream",
          "name": "stderr",
          "text": [
            "\u001b[92mINFO \u001b[0m:      aggregate_fit: received 10 results and 0 failures\n"
          ]
        },
        {
          "output_type": "stream",
          "name": "stdout",
          "text": [
            "\u001b[36m(ClientAppActor pid=38528)\u001b[0m Epoch 1: train loss 0.02297123149037361, accuracy 0.24666666666666667\n"
          ]
        },
        {
          "output_type": "stream",
          "name": "stderr",
          "text": [
            "\u001b[92mINFO \u001b[0m:      fit progress: (2, 0.022946128034591676, {'accuracy': 0.2047}, 54.64729144500052)\n",
            "\u001b[92mINFO \u001b[0m:      configure_evaluate: no clients selected, skipping evaluation\n",
            "\u001b[92mINFO \u001b[0m:      \n",
            "\u001b[92mINFO \u001b[0m:      [ROUND 3]\n",
            "\u001b[92mINFO \u001b[0m:      configure_fit: strategy sampled 10 clients (out of 100)\n"
          ]
        },
        {
          "output_type": "stream",
          "name": "stdout",
          "text": [
            "Server-side evaluation loss 0.022946128034591676 / accuracy 0.2047\n",
            "\u001b[36m(ClientAppActor pid=38528)\u001b[0m [Client 1, round 3] fit, config: {'server_round': 3, 'local_epochs': 1}\n",
            "\u001b[36m(ClientAppActor pid=38528)\u001b[0m Epoch 1: train loss 0.022936508059501648, accuracy 0.245\n",
            "\u001b[36m(ClientAppActor pid=38528)\u001b[0m [Client 31, round 3] fit, config: {'server_round': 3, 'local_epochs': 1}\n",
            "\u001b[36m(ClientAppActor pid=38528)\u001b[0m Epoch 1: train loss 0.022927330806851387, accuracy 0.20833333333333334\n",
            "\u001b[36m(ClientAppActor pid=38528)\u001b[0m [Client 47, round 3] fit, config: {'server_round': 3, 'local_epochs': 1}\n",
            "\u001b[36m(ClientAppActor pid=38528)\u001b[0m Epoch 1: train loss 0.022926492616534233, accuracy 0.17833333333333334\n",
            "\u001b[36m(ClientAppActor pid=38528)\u001b[0m [Client 79, round 3] fit, config: {'server_round': 3, 'local_epochs': 1}\n",
            "\u001b[36m(ClientAppActor pid=38528)\u001b[0m Epoch 1: train loss 0.022932199761271477, accuracy 0.21166666666666667\n",
            "\u001b[36m(ClientAppActor pid=38528)\u001b[0m [Client 90, round 3] fit, config: {'server_round': 3, 'local_epochs': 1}\n",
            "\u001b[36m(ClientAppActor pid=38528)\u001b[0m Epoch 1: train loss 0.022923549637198448, accuracy 0.20666666666666667\n",
            "\u001b[36m(ClientAppActor pid=38528)\u001b[0m [Client 99, round 3] fit, config: {'server_round': 3, 'local_epochs': 1}\n",
            "\u001b[36m(ClientAppActor pid=38528)\u001b[0m Epoch 1: train loss 0.02292809821665287, accuracy 0.18166666666666667\n",
            "\u001b[36m(ClientAppActor pid=38528)\u001b[0m [Client 46, round 3] fit, config: {'server_round': 3, 'local_epochs': 1}\n",
            "\u001b[36m(ClientAppActor pid=38528)\u001b[0m Epoch 1: train loss 0.02293248102068901, accuracy 0.225\n",
            "\u001b[36m(ClientAppActor pid=38528)\u001b[0m [Client 95, round 3] fit, config: {'server_round': 3, 'local_epochs': 1}\n",
            "\u001b[36m(ClientAppActor pid=38528)\u001b[0m Epoch 1: train loss 0.022918278351426125, accuracy 0.19\n",
            "\u001b[36m(ClientAppActor pid=38528)\u001b[0m [Client 74, round 3] fit, config: {'server_round': 3, 'local_epochs': 1}\n",
            "\u001b[36m(ClientAppActor pid=38528)\u001b[0m Epoch 1: train loss 0.022929232567548752, accuracy 0.22666666666666666\n",
            "\u001b[36m(ClientAppActor pid=38528)\u001b[0m [Client 14, round 3] fit, config: {'server_round': 3, 'local_epochs': 1}\n"
          ]
        },
        {
          "output_type": "stream",
          "name": "stderr",
          "text": [
            "\u001b[92mINFO \u001b[0m:      aggregate_fit: received 10 results and 0 failures\n"
          ]
        },
        {
          "output_type": "stream",
          "name": "stdout",
          "text": [
            "\u001b[36m(ClientAppActor pid=38528)\u001b[0m Epoch 1: train loss 0.022926924750208855, accuracy 0.2\n"
          ]
        },
        {
          "output_type": "stream",
          "name": "stderr",
          "text": [
            "\u001b[92mINFO \u001b[0m:      fit progress: (3, 0.022889632272720336, {'accuracy': 0.1706}, 79.27390379000008)\n",
            "\u001b[92mINFO \u001b[0m:      configure_evaluate: no clients selected, skipping evaluation\n",
            "\u001b[92mINFO \u001b[0m:      \n",
            "\u001b[92mINFO \u001b[0m:      [SUMMARY]\n",
            "\u001b[92mINFO \u001b[0m:      Run finished 3 round(s) in 79.28s\n",
            "\u001b[92mINFO \u001b[0m:      \tHistory (loss, centralized):\n",
            "\u001b[92mINFO \u001b[0m:      \t\tround 0: 0.0230280880689621\n",
            "\u001b[92mINFO \u001b[0m:      \t\tround 1: 0.022988128733634948\n",
            "\u001b[92mINFO \u001b[0m:      \t\tround 2: 0.022946128034591676\n",
            "\u001b[92mINFO \u001b[0m:      \t\tround 3: 0.022889632272720336\n",
            "\u001b[92mINFO \u001b[0m:      \tHistory (metrics, centralized):\n",
            "\u001b[92mINFO \u001b[0m:      \t{'accuracy': [(0, 0.112), (1, 0.2526), (2, 0.2047), (3, 0.1706)]}\n",
            "\u001b[92mINFO \u001b[0m:      \n"
          ]
        },
        {
          "output_type": "stream",
          "name": "stdout",
          "text": [
            "Server-side evaluation loss 0.022889632272720336 / accuracy 0.1706\n"
          ]
        }
      ]
    },
    {
      "cell_type": "markdown",
      "source": [
        "## Run Simulation 2"
      ],
      "metadata": {
        "id": "s5RdyN_prots"
      }
    },
    {
      "cell_type": "code",
      "source": [
        "# Define hardware resources\n",
        "if DEVICE.type == \"cuda\":\n",
        "    backend_config = {\"client_resources\": {\"num_gpus\": 0.5, \"num_cpus\": 2}}\n",
        "else:\n",
        "    backend_config = {\"num_cpus\": 2}\n",
        "\n",
        "# Create Apps\n",
        "client = ClientApp(client_fn=client_fn)\n",
        "server = ServerApp(server_fn=server_fn)\n",
        "\n",
        "# Define new history\n",
        "history = {\"accuracy\": [], \"loss\": []}\n",
        "\n",
        "# Run simulation\n",
        "run_simulation(\n",
        "    server_app=server,\n",
        "    client_app=client,\n",
        "    num_supernodes=NUM_PARTITIONS,\n",
        "    backend_config=backend_config,\n",
        ")"
      ],
      "metadata": {
        "colab": {
          "base_uri": "https://localhost:8080/"
        },
        "id": "IgLe-A4H-kaB",
        "outputId": "666f3de1-eb28-4d1c-c0af-1d4f6cfa49fc"
      },
      "execution_count": 118,
      "outputs": [
        {
          "output_type": "stream",
          "name": "stderr",
          "text": [
            "\u001b[92mINFO \u001b[0m:      Starting Flower ServerApp, config: num_rounds=3, no round_timeout\n",
            "\u001b[92mINFO \u001b[0m:      \n",
            "\u001b[92mINFO \u001b[0m:      [INIT]\n",
            "\u001b[92mINFO \u001b[0m:      Using initial global parameters provided by strategy\n",
            "\u001b[92mINFO \u001b[0m:      Starting evaluation of initial global parameters\n",
            "/usr/lib/python3.10/subprocess.py:1796: RuntimeWarning: os.fork() was called. os.fork() is incompatible with multithreaded code, and JAX is multithreaded, so this will likely lead to a deadlock.\n",
            "  self.pid = _posixsubprocess.fork_exec(\n",
            "/usr/lib/python3.10/subprocess.py:1796: RuntimeWarning: os.fork() was called. os.fork() is incompatible with multithreaded code, and JAX is multithreaded, so this will likely lead to a deadlock.\n",
            "  self.pid = _posixsubprocess.fork_exec(\n",
            "\u001b[92mINFO \u001b[0m:      initial parameters (loss, other metrics): 0.0230280880689621, {'accuracy': 0.112}\n",
            "\u001b[92mINFO \u001b[0m:      \n",
            "\u001b[92mINFO \u001b[0m:      [ROUND 1]\n",
            "\u001b[92mINFO \u001b[0m:      configure_fit: strategy sampled 10 clients (out of 100)\n"
          ]
        },
        {
          "output_type": "stream",
          "name": "stdout",
          "text": [
            "Server-side evaluation loss 0.0230280880689621 / accuracy 0.112\n"
          ]
        },
        {
          "output_type": "stream",
          "name": "stderr",
          "text": [
            "\u001b[36m(pid=39547)\u001b[0m 2024-08-30 20:08:51.256957: E external/local_xla/xla/stream_executor/cuda/cuda_fft.cc:485] Unable to register cuFFT factory: Attempting to register factory for plugin cuFFT when one has already been registered\n",
            "\u001b[36m(pid=39547)\u001b[0m 2024-08-30 20:08:51.284413: E external/local_xla/xla/stream_executor/cuda/cuda_dnn.cc:8454] Unable to register cuDNN factory: Attempting to register factory for plugin cuDNN when one has already been registered\n",
            "\u001b[36m(pid=39547)\u001b[0m 2024-08-30 20:08:51.291478: E external/local_xla/xla/stream_executor/cuda/cuda_blas.cc:1452] Unable to register cuBLAS factory: Attempting to register factory for plugin cuBLAS when one has already been registered\n",
            "\u001b[36m(pid=39547)\u001b[0m 2024-08-30 20:08:52.850674: W tensorflow/compiler/tf2tensorrt/utils/py_utils.cc:38] TF-TRT Warning: Could not find TensorRT\n",
            "\u001b[36m(ClientAppActor pid=39547)\u001b[0m /usr/local/lib/python3.10/dist-packages/jupyter_client/connect.py:28: DeprecationWarning: Jupyter is migrating its paths to use standard platformdirs\n",
            "\u001b[36m(ClientAppActor pid=39547)\u001b[0m given by the platformdirs library.  To remove this warning and\n",
            "\u001b[36m(ClientAppActor pid=39547)\u001b[0m see the appropriate new directories, set the environment variable\n",
            "\u001b[36m(ClientAppActor pid=39547)\u001b[0m `JUPYTER_PLATFORM_DIRS=1` and then run `jupyter --paths`.\n",
            "\u001b[36m(ClientAppActor pid=39547)\u001b[0m The use of platformdirs will be the default in `jupyter_core` v6\n",
            "\u001b[36m(ClientAppActor pid=39547)\u001b[0m   from jupyter_core.paths import jupyter_data_dir, jupyter_runtime_dir, secure_write\n"
          ]
        },
        {
          "output_type": "stream",
          "name": "stdout",
          "text": [
            "\u001b[36m(ClientAppActor pid=39547)\u001b[0m [Client 17, round 1] fit, config: {'server_round': 1, 'local_epochs': 1}\n",
            "\u001b[36m(ClientAppActor pid=39547)\u001b[0m Epoch 1: train loss 0.02301565557718277, accuracy 0.135\n",
            "\u001b[36m(ClientAppActor pid=39547)\u001b[0m [Client 27, round 1] fit, config: {'server_round': 1, 'local_epochs': 1}\n",
            "\u001b[36m(ClientAppActor pid=39547)\u001b[0m Epoch 1: train loss 0.023016273975372314, accuracy 0.13\n",
            "\u001b[36m(ClientAppActor pid=39547)\u001b[0m [Client 45, round 1] fit, config: {'server_round': 1, 'local_epochs': 1}\n",
            "\u001b[36m(ClientAppActor pid=39547)\u001b[0m Epoch 1: train loss 0.023017577826976776, accuracy 0.11333333333333333\n",
            "\u001b[36m(ClientAppActor pid=39547)\u001b[0m [Client 54, round 1] fit, config: {'server_round': 1, 'local_epochs': 1}\n",
            "\u001b[36m(ClientAppActor pid=39547)\u001b[0m Epoch 1: train loss 0.023009736090898514, accuracy 0.14166666666666666\n",
            "\u001b[36m(ClientAppActor pid=39547)\u001b[0m [Client 58, round 1] fit, config: {'server_round': 1, 'local_epochs': 1}\n",
            "\u001b[36m(ClientAppActor pid=39547)\u001b[0m Epoch 1: train loss 0.023017939180135727, accuracy 0.12666666666666668\n",
            "\u001b[36m(ClientAppActor pid=39547)\u001b[0m [Client 78, round 1] fit, config: {'server_round': 1, 'local_epochs': 1}\n",
            "\u001b[36m(ClientAppActor pid=39547)\u001b[0m Epoch 1: train loss 0.023012444376945496, accuracy 0.13833333333333334\n",
            "\u001b[36m(ClientAppActor pid=39547)\u001b[0m [Client 59, round 1] fit, config: {'server_round': 1, 'local_epochs': 1}\n",
            "\u001b[36m(ClientAppActor pid=39547)\u001b[0m Epoch 1: train loss 0.02301844023168087, accuracy 0.11\n",
            "\u001b[36m(ClientAppActor pid=39547)\u001b[0m [Client 56, round 1] fit, config: {'server_round': 1, 'local_epochs': 1}\n",
            "\u001b[36m(ClientAppActor pid=39547)\u001b[0m Epoch 1: train loss 0.02301356941461563, accuracy 0.14666666666666667\n",
            "\u001b[36m(ClientAppActor pid=39547)\u001b[0m [Client 23, round 1] fit, config: {'server_round': 1, 'local_epochs': 1}\n",
            "\u001b[36m(ClientAppActor pid=39547)\u001b[0m Epoch 1: train loss 0.023015499114990234, accuracy 0.13333333333333333\n",
            "\u001b[36m(ClientAppActor pid=39547)\u001b[0m [Client 16, round 1] fit, config: {'server_round': 1, 'local_epochs': 1}\n",
            "\u001b[36m(ClientAppActor pid=39547)\u001b[0m Epoch 1: train loss 0.02301928773522377, accuracy 0.13333333333333333\n"
          ]
        },
        {
          "output_type": "stream",
          "name": "stderr",
          "text": [
            "\u001b[92mINFO \u001b[0m:      aggregate_fit: received 10 results and 0 failures\n",
            "\u001b[93mWARNING \u001b[0m:   No fit_metrics_aggregation_fn provided\n",
            "\u001b[92mINFO \u001b[0m:      fit progress: (1, 0.022987152314186098, {'accuracy': 0.212}, 30.20344212800046)\n",
            "\u001b[92mINFO \u001b[0m:      configure_evaluate: no clients selected, skipping evaluation\n",
            "\u001b[92mINFO \u001b[0m:      \n",
            "\u001b[92mINFO \u001b[0m:      [ROUND 2]\n",
            "\u001b[92mINFO \u001b[0m:      configure_fit: strategy sampled 10 clients (out of 100)\n"
          ]
        },
        {
          "output_type": "stream",
          "name": "stdout",
          "text": [
            "Server-side evaluation loss 0.022987152314186098 / accuracy 0.212\n",
            "\u001b[36m(ClientAppActor pid=39547)\u001b[0m [Client 15, round 2] fit, config: {'server_round': 2, 'local_epochs': 1}\n",
            "\u001b[36m(ClientAppActor pid=39547)\u001b[0m Epoch 1: train loss 0.022977393120527267, accuracy 0.18833333333333332\n",
            "\u001b[36m(ClientAppActor pid=39547)\u001b[0m [Client 25, round 2] fit, config: {'server_round': 2, 'local_epochs': 1}\n",
            "\u001b[36m(ClientAppActor pid=39547)\u001b[0m Epoch 1: train loss 0.022972896695137024, accuracy 0.19333333333333333\n",
            "\u001b[36m(ClientAppActor pid=39547)\u001b[0m [Client 45, round 2] fit, config: {'server_round': 2, 'local_epochs': 1}\n",
            "\u001b[36m(ClientAppActor pid=39547)\u001b[0m Epoch 1: train loss 0.022969214245676994, accuracy 0.2\n",
            "\u001b[36m(ClientAppActor pid=39547)\u001b[0m [Client 46, round 2] fit, config: {'server_round': 2, 'local_epochs': 1}\n",
            "\u001b[36m(ClientAppActor pid=39547)\u001b[0m Epoch 1: train loss 0.022972840815782547, accuracy 0.235\n",
            "\u001b[36m(ClientAppActor pid=39547)\u001b[0m [Client 81, round 2] fit, config: {'server_round': 2, 'local_epochs': 1}\n",
            "\u001b[36m(ClientAppActor pid=39547)\u001b[0m Epoch 1: train loss 0.02297542616724968, accuracy 0.19166666666666668\n",
            "\u001b[36m(ClientAppActor pid=39547)\u001b[0m [Client 97, round 2] fit, config: {'server_round': 2, 'local_epochs': 1}\n",
            "\u001b[36m(ClientAppActor pid=39547)\u001b[0m Epoch 1: train loss 0.022977927699685097, accuracy 0.16666666666666666\n",
            "\u001b[36m(ClientAppActor pid=39547)\u001b[0m [Client 99, round 2] fit, config: {'server_round': 2, 'local_epochs': 1}\n",
            "\u001b[36m(ClientAppActor pid=39547)\u001b[0m Epoch 1: train loss 0.02297280542552471, accuracy 0.18666666666666668\n",
            "\u001b[36m(ClientAppActor pid=39547)\u001b[0m [Client 24, round 2] fit, config: {'server_round': 2, 'local_epochs': 1}\n",
            "\u001b[36m(ClientAppActor pid=39547)\u001b[0m Epoch 1: train loss 0.022976700216531754, accuracy 0.20166666666666666\n",
            "\u001b[36m(ClientAppActor pid=39547)\u001b[0m [Client 38, round 2] fit, config: {'server_round': 2, 'local_epochs': 1}\n",
            "\u001b[36m(ClientAppActor pid=39547)\u001b[0m Epoch 1: train loss 0.022980164736509323, accuracy 0.205\n",
            "\u001b[36m(ClientAppActor pid=39547)\u001b[0m [Client 12, round 2] fit, config: {'server_round': 2, 'local_epochs': 1}\n"
          ]
        },
        {
          "output_type": "stream",
          "name": "stderr",
          "text": [
            "\u001b[92mINFO \u001b[0m:      aggregate_fit: received 10 results and 0 failures\n"
          ]
        },
        {
          "output_type": "stream",
          "name": "stdout",
          "text": [
            "\u001b[36m(ClientAppActor pid=39547)\u001b[0m Epoch 1: train loss 0.02296130172908306, accuracy 0.195\n"
          ]
        },
        {
          "output_type": "stream",
          "name": "stderr",
          "text": [
            "\u001b[92mINFO \u001b[0m:      fit progress: (2, 0.02294366555213928, {'accuracy': 0.154}, 50.30459433500073)\n",
            "\u001b[92mINFO \u001b[0m:      configure_evaluate: no clients selected, skipping evaluation\n",
            "\u001b[92mINFO \u001b[0m:      \n",
            "\u001b[92mINFO \u001b[0m:      [ROUND 3]\n",
            "\u001b[92mINFO \u001b[0m:      configure_fit: strategy sampled 10 clients (out of 100)\n"
          ]
        },
        {
          "output_type": "stream",
          "name": "stdout",
          "text": [
            "Server-side evaluation loss 0.02294366555213928 / accuracy 0.154\n",
            "\u001b[36m(ClientAppActor pid=39547)\u001b[0m [Client 1, round 3] fit, config: {'server_round': 3, 'local_epochs': 1}\n",
            "\u001b[36m(ClientAppActor pid=39547)\u001b[0m Epoch 1: train loss 0.02293422631919384, accuracy 0.15333333333333332\n",
            "\u001b[36m(ClientAppActor pid=39547)\u001b[0m [Client 2, round 3] fit, config: {'server_round': 3, 'local_epochs': 1}\n",
            "\u001b[36m(ClientAppActor pid=39547)\u001b[0m Epoch 1: train loss 0.022915786132216454, accuracy 0.145\n",
            "\u001b[36m(ClientAppActor pid=39547)\u001b[0m [Client 11, round 3] fit, config: {'server_round': 3, 'local_epochs': 1}\n",
            "\u001b[36m(ClientAppActor pid=39547)\u001b[0m Epoch 1: train loss 0.022913066670298576, accuracy 0.165\n",
            "\u001b[36m(ClientAppActor pid=39547)\u001b[0m [Client 30, round 3] fit, config: {'server_round': 3, 'local_epochs': 1}\n",
            "\u001b[36m(ClientAppActor pid=39547)\u001b[0m Epoch 1: train loss 0.022936008870601654, accuracy 0.15\n",
            "\u001b[36m(ClientAppActor pid=39547)\u001b[0m [Client 34, round 3] fit, config: {'server_round': 3, 'local_epochs': 1}\n",
            "\u001b[36m(ClientAppActor pid=39547)\u001b[0m Epoch 1: train loss 0.022935522720217705, accuracy 0.14333333333333334\n",
            "\u001b[36m(ClientAppActor pid=39547)\u001b[0m [Client 99, round 3] fit, config: {'server_round': 3, 'local_epochs': 1}\n",
            "\u001b[36m(ClientAppActor pid=39547)\u001b[0m Epoch 1: train loss 0.022918500006198883, accuracy 0.155\n",
            "\u001b[36m(ClientAppActor pid=39547)\u001b[0m [Client 95, round 3] fit, config: {'server_round': 3, 'local_epochs': 1}\n",
            "\u001b[36m(ClientAppActor pid=39547)\u001b[0m Epoch 1: train loss 0.022909076884388924, accuracy 0.165\n",
            "\u001b[36m(ClientAppActor pid=39547)\u001b[0m [Client 18, round 3] fit, config: {'server_round': 3, 'local_epochs': 1}\n",
            "\u001b[36m(ClientAppActor pid=39547)\u001b[0m Epoch 1: train loss 0.022933857515454292, accuracy 0.16333333333333333\n",
            "\u001b[36m(ClientAppActor pid=39547)\u001b[0m [Client 77, round 3] fit, config: {'server_round': 3, 'local_epochs': 1}\n",
            "\u001b[36m(ClientAppActor pid=39547)\u001b[0m Epoch 1: train loss 0.02294105850160122, accuracy 0.16\n",
            "\u001b[36m(ClientAppActor pid=39547)\u001b[0m [Client 25, round 3] fit, config: {'server_round': 3, 'local_epochs': 1}\n",
            "\u001b[36m(ClientAppActor pid=39547)\u001b[0m Epoch 1: train loss 0.022925063967704773, accuracy 0.14333333333333334\n"
          ]
        },
        {
          "output_type": "stream",
          "name": "stderr",
          "text": [
            "\u001b[92mINFO \u001b[0m:      aggregate_fit: received 10 results and 0 failures\n",
            "\u001b[92mINFO \u001b[0m:      fit progress: (3, 0.022882481694221496, {'accuracy': 0.1391}, 69.63257552800133)\n",
            "\u001b[92mINFO \u001b[0m:      configure_evaluate: no clients selected, skipping evaluation\n",
            "\u001b[92mINFO \u001b[0m:      \n",
            "\u001b[92mINFO \u001b[0m:      [SUMMARY]\n",
            "\u001b[92mINFO \u001b[0m:      Run finished 3 round(s) in 69.64s\n",
            "\u001b[92mINFO \u001b[0m:      \tHistory (loss, centralized):\n",
            "\u001b[92mINFO \u001b[0m:      \t\tround 0: 0.0230280880689621\n",
            "\u001b[92mINFO \u001b[0m:      \t\tround 1: 0.022987152314186098\n",
            "\u001b[92mINFO \u001b[0m:      \t\tround 2: 0.02294366555213928\n",
            "\u001b[92mINFO \u001b[0m:      \t\tround 3: 0.022882481694221496\n",
            "\u001b[92mINFO \u001b[0m:      \tHistory (metrics, centralized):\n",
            "\u001b[92mINFO \u001b[0m:      \t{'accuracy': [(0, 0.112), (1, 0.212), (2, 0.154), (3, 0.1391)]}\n",
            "\u001b[92mINFO \u001b[0m:      \n"
          ]
        },
        {
          "output_type": "stream",
          "name": "stdout",
          "text": [
            "Server-side evaluation loss 0.022882481694221496 / accuracy 0.1391\n"
          ]
        }
      ]
    },
    {
      "cell_type": "code",
      "source": [
        "global_accuracy_centralised = history[\"accuracy\"]\n",
        "round = [data[1] for data in global_accuracy_centralised]\n",
        "acc = [100.0 * data[0] for data in global_accuracy_centralised]\n",
        "plt.plot(round, acc)\n",
        "plt.grid()\n",
        "plt.ylabel(\"Test Accuracy (%)\")\n",
        "plt.xlabel(\"Round\")\n",
        "plt.title(\"MNIST - IID - 100 clients with 10 clients per round\")"
      ],
      "metadata": {
        "colab": {
          "base_uri": "https://localhost:8080/",
          "height": 489
        },
        "id": "odCnjB4azxkL",
        "outputId": "90c0b1d7-3ad4-4ff8-d684-824ba4e59072"
      },
      "execution_count": 50,
      "outputs": [
        {
          "output_type": "execute_result",
          "data": {
            "text/plain": [
              "Text(0.5, 1.0, 'MNIST - IID - 100 clients with 10 clients per round')"
            ]
          },
          "metadata": {},
          "execution_count": 50
        },
        {
          "output_type": "display_data",
          "data": {
            "text/plain": [
              "<Figure size 640x480 with 1 Axes>"
            ],
            "image/png": "[encoded data removed]"
          },
          "metadata": {}
        }
      ]
    },
    {
      "cell_type": "code",
      "source": [
        "global_loss_centralised = history[\"loss\"]\n",
        "round = [data[1] for data in global_loss_centralised]\n",
        "loss = [100.0 * data[0] for data in global_loss_centralised]\n",
        "plt.plot(round, loss)\n",
        "plt.grid()\n",
        "plt.ylabel(\"Test Loss (%)\")\n",
        "plt.xlabel(\"Round\")\n",
        "plt.title(\"MNIST - IID - 100 clients with 10 clients per round\")"
      ],
      "metadata": {
        "colab": {
          "base_uri": "https://localhost:8080/",
          "height": 489
        },
        "id": "2LHJ2_Pn0tyS",
        "outputId": "c47cd3d0-209e-44fd-f06b-c8a6547f4fd4"
      },
      "execution_count": 46,
      "outputs": [
        {
          "output_type": "execute_result",
          "data": {
            "text/plain": [
              "Text(0.5, 1.0, 'MNIST - IID - 100 clients with 10 clients per round')"
            ]
          },
          "metadata": {},
          "execution_count": 46
        },
        {
          "output_type": "display_data",
          "data": {
            "text/plain": [
              "<Figure size 640x480 with 1 Axes>"
            ],
            "image/png": "[encoded data removed]"
          },
          "metadata": {}
        }
      ]
    },
    {
      "cell_type": "code",
      "source": [
        "history"
      ],
      "metadata": {
        "colab": {
          "base_uri": "https://localhost:8080/"
        },
        "id": "hD3AkXXe-fCX",
        "outputId": "53e9380c-0697-47cc-a4bc-c4ac3a9a42b9"
      },
      "execution_count": 47,
      "outputs": [
        {
          "output_type": "stream",
          "name": "stderr",
          "text": [
            "/usr/local/lib/python3.10/dist-packages/ipykernel/ipkernel.py:283: DeprecationWarning: `should_run_async` will not call `transform_cell` automatically in the future. Please pass the result to `transformed_cell` argument and any exception that happen during thetransform in `preprocessing_exc_tuple` in IPython 7.17 and above.\n",
            "  and should_run_async(code)\n"
          ]
        },
        {
          "output_type": "execute_result",
          "data": {
            "text/plain": [
              "{'accuracy': [(0.112, 0), (0.2343, 1), (0.161, 2), (0.1561, 3)],\n",
              " 'loss': [(0.0230280880689621, 0),\n",
              "  (0.02298769462108612, 1),\n",
              "  (0.02294411289691925, 2),\n",
              "  (0.022890711307525635, 3)]}"
            ]
          },
          "metadata": {},
          "execution_count": 47
        }
      ]
    }
  ],
  "metadata": {
    "colab": {
      "provenance": [],
      "gpuType": "T4",
      "include_colab_link": true
    },
    "kernelspec": {
      "display_name": "Python 3",
      "name": "python3"
    },
    "accelerator": "GPU"
  },
  "nbformat": 4,
  "nbformat_minor": 0
}