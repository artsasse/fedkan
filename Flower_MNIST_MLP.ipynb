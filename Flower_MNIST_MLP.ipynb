{
  "cells": [
    {
      "cell_type": "markdown",
      "metadata": {
        "id": "view-in-github",
        "colab_type": "text"
      },
      "source": [
        "<a href=\"https://colab.research.google.com/github/artsasse/fedkan/blob/main/Flower_MNIST_MLP.ipynb\" target=\"_parent\"><img src=\"https://colab.research.google.com/assets/colab-badge.svg\" alt=\"Open In Colab\"/></a>"
      ]
    },
    {
      "cell_type": "markdown",
      "metadata": {
        "id": "O-k1Z1KHI6EC"
      },
      "source": [
        "# Using a Federated MLP to classify MNIST\n",
        "\n",
        "This notebook is based mainly on the Flower Tutorial \"Use a federated learning strategy\", found in https://flower.ai/docs/framework/tutorial-series-use-a-federated-learning-strategy-pytorch.html ."
      ]
    },
    {
      "cell_type": "markdown",
      "source": [
        "## Global Values"
      ],
      "metadata": {
        "id": "y_wbnJBW09_y"
      }
    },
    {
      "cell_type": "code",
      "source": [
        "NUM_PARTITIONS = 100\n",
        "BATCH_SIZE = 100\n",
        "LOCAL_EPOCHS = 1\n",
        "FRACTION_CLIENTS = 0.05\n",
        "COMM_ROUNDS = 2\n",
        "NET_TYPE = \"kan\"\n",
        "LEARNING_RATE = 0.1\n",
        "MOMENTUM = 0.9\n",
        "HISTORY = {}\n",
        "TRY_DEVICE = \"cpu\"\n",
        "SEED = 4"
      ],
      "metadata": {
        "id": "HMGD8hzw1C05"
      },
      "execution_count": 39,
      "outputs": []
    },
    {
      "cell_type": "markdown",
      "metadata": {
        "id": "dYOHo7tsI6EE"
      },
      "source": [
        "## Dependencies"
      ]
    },
    {
      "cell_type": "code",
      "execution_count": 17,
      "metadata": {
        "id": "BOUqWBtaI6EE"
      },
      "outputs": [],
      "source": [
        "!pip install -q flwr[simulation] flwr-datasets[vision] torch torchvision"
      ]
    },
    {
      "cell_type": "code",
      "source": [
        "# Efficient KAN\n",
        "!pip install -q git+https://github.com/Blealtan/efficient-kan.git"
      ],
      "metadata": {
        "colab": {
          "base_uri": "https://localhost:8080/"
        },
        "id": "RcT8HgS6LY2U",
        "outputId": "10d02928-dcc3-4250-cb6c-6cbaf27ce186"
      },
      "execution_count": 18,
      "outputs": [
        {
          "output_type": "stream",
          "name": "stdout",
          "text": [
            "  Installing build dependencies ... \u001b[?25l\u001b[?25hdone\n",
            "  Getting requirements to build wheel ... \u001b[?25l\u001b[?25hdone\n",
            "  Preparing metadata (pyproject.toml) ... \u001b[?25l\u001b[?25hdone\n"
          ]
        }
      ]
    },
    {
      "cell_type": "code",
      "execution_count": 19,
      "metadata": {
        "id": "Y25quxLmI6EF",
        "colab": {
          "base_uri": "https://localhost:8080/"
        },
        "outputId": "a93f2234-31e1-46a4-b59c-5c1e3e153fed"
      },
      "outputs": [
        {
          "output_type": "stream",
          "name": "stdout",
          "text": [
            "Training on cpu\n",
            "Flower 1.11.0 / PyTorch 2.4.0+cu121\n"
          ]
        }
      ],
      "source": [
        "from collections import OrderedDict\n",
        "from typing import Dict, List, Optional, Tuple\n",
        "\n",
        "import random\n",
        "import os\n",
        "import re\n",
        "import json\n",
        "from logging import INFO\n",
        "\n",
        "from google.colab import drive\n",
        "\n",
        "import numpy as np\n",
        "import matplotlib.pyplot as plt\n",
        "import torch\n",
        "import torch.nn as nn\n",
        "import torch.nn.functional as F\n",
        "import torchvision.transforms as transforms\n",
        "from torch.utils.data import DataLoader\n",
        "\n",
        "import flwr\n",
        "from flwr.client import Client, ClientApp, NumPyClient\n",
        "from flwr.server import ServerApp, ServerConfig, ServerAppComponents, SimpleClientManager\n",
        "from flwr.server.strategy import FedAvg, FedAdagrad\n",
        "from flwr.simulation import run_simulation, start_simulation\n",
        "from flwr_datasets import FederatedDataset\n",
        "from flwr_datasets.partitioner import PathologicalPartitioner\n",
        "from flwr_datasets.visualization import plot_label_distributions\n",
        "from flwr.common import ndarrays_to_parameters, NDArrays, Scalar, Context, Metrics\n",
        "from flwr.common.logger import log\n",
        "from flwr.server.client_proxy import ClientProxy\n",
        "from flwr.server.criterion import Criterion\n",
        "\n",
        "from efficient_kan import KAN\n",
        "\n",
        "DEVICE = torch.device(TRY_DEVICE)  # \"cpu\" or \"cuda\" (\"mps\" for Apple Silicon)\n",
        "print(f\"Training on {DEVICE}\")\n",
        "print(f\"Flower {flwr.__version__} / PyTorch {torch.__version__}\")"
      ]
    },
    {
      "cell_type": "markdown",
      "source": [
        "## Configuring Seeds"
      ],
      "metadata": {
        "id": "yTIHW-Zdx4pc"
      }
    },
    {
      "cell_type": "code",
      "source": [
        "torch.manual_seed(SEED)\n",
        "random.seed(SEED)\n",
        "np.random.seed(SEED)\n",
        "os.environ[\"PYTHONHASHSEED\"] = str(SEED)\n",
        "# torch.use_deterministic_algorithms(True)\n",
        "# torch.backends.cudnn.benchmark = False\n",
        "# torch.backends.cudnn.deterministic = True"
      ],
      "metadata": {
        "id": "C_aWkTwPyAKU"
      },
      "execution_count": 40,
      "outputs": []
    },
    {
      "cell_type": "markdown",
      "metadata": {
        "id": "C6jR8cN7I6EG"
      },
      "source": [
        "## Data loading"
      ]
    },
    {
      "cell_type": "code",
      "source": [
        "def create_flower_dataset():\n",
        "\n",
        "    # Like FedProx partition, but clients have similar number of examples\n",
        "    partitioner = PathologicalPartitioner(\n",
        "        num_partitions=NUM_PARTITIONS,\n",
        "        partition_by=\"label\",\n",
        "        num_classes_per_partition=2,\n",
        "        shuffle=True,\n",
        "        seed=SEED\n",
        "        )\n",
        "\n",
        "    fds = FederatedDataset(\n",
        "        dataset=\"mnist\",\n",
        "        partitioners={\"train\": partitioner},\n",
        "        shuffle=True,\n",
        "        seed=SEED\n",
        "        )\n",
        "\n",
        "    return fds"
      ],
      "metadata": {
        "id": "HSlWj7yapIuK"
      },
      "execution_count": 41,
      "outputs": []
    },
    {
      "cell_type": "code",
      "execution_count": 42,
      "metadata": {
        "id": "tc70GEH5I6EH"
      },
      "outputs": [],
      "source": [
        "def load_datasets(partition_id: int, num_partitions: int):\n",
        "\n",
        "    pytorch_transforms = transforms.Compose(\n",
        "        [transforms.ToTensor(),\n",
        "         transforms.Normalize((0.5,), (0.5,)),\n",
        "         transforms.Lambda(lambda x: torch.flatten(x))  # Flatten the image into a 1D tensor\n",
        "         ]\n",
        "    )\n",
        "\n",
        "    def apply_transforms(batch):\n",
        "        batch[\"image\"] = [pytorch_transforms(img) for img in batch[\"image\"]]\n",
        "        return batch\n",
        "\n",
        "    fds = create_flower_dataset()\n",
        "\n",
        "    partition = fds.load_partition(partition_id).with_transform(apply_transforms)\n",
        "    trainloader = DataLoader(partition, batch_size=BATCH_SIZE, shuffle=True,\n",
        "                            #  worker_init_fn=seed_worker, generator=g\n",
        "                             )\n",
        "\n",
        "    testset = fds.load_split(\"test\").with_transform(apply_transforms)\n",
        "    testloader = DataLoader(testset, batch_size=BATCH_SIZE,\n",
        "                            # worker_init_fn=seed_worker, generator=g\n",
        "                            )\n",
        "\n",
        "    return trainloader, testloader"
      ]
    },
    {
      "cell_type": "markdown",
      "source": [
        "### Partition Visualization"
      ],
      "metadata": {
        "id": "YxsxOdbpoqPw"
      }
    },
    {
      "cell_type": "code",
      "source": [
        "visual_fds = create_flower_dataset()\n",
        "visual_partitioner = visual_fds.partitioners[\"train\"]\n",
        "fig, ax, df = plot_label_distributions(\n",
        "    visual_partitioner,\n",
        "    label_name=\"label\",\n",
        "    plot_type=\"bar\",\n",
        "    size_unit=\"absolute\",\n",
        "    partition_id_axis=\"x\",\n",
        "    legend=True,\n",
        "    verbose_labels=True,\n",
        "    title=\"Per Partition Labels Distribution\",\n",
        ")"
      ],
      "metadata": {
        "colab": {
          "base_uri": "https://localhost:8080/",
          "height": 54
        },
        "id": "J7onFgLKosRj",
        "outputId": "418162a7-8b09-47a9-f2cd-79fd8ad7f1d4"
      },
      "execution_count": 43,
      "outputs": [
        {
          "output_type": "display_data",
          "data": {
            "text/plain": [
              "<Figure size 640x480 with 1 Axes>"
            ],
            "image/png": "[encoded data removed]"
          },
          "metadata": {}
        }
      ]
    },
    {
      "cell_type": "code",
      "source": [
        "df"
      ],
      "metadata": {
        "colab": {
          "base_uri": "https://localhost:8080/",
          "height": 521
        },
        "id": "Hm_hGg7Tsd9J",
        "outputId": "ba7f49ff-6090-4c18-8eaf-24db605f03c1"
      },
      "execution_count": 44,
      "outputs": [
        {
          "output_type": "stream",
          "name": "stderr",
          "text": [
            "/usr/local/lib/python3.10/dist-packages/ipykernel/ipkernel.py:283: DeprecationWarning: `should_run_async` will not call `transform_cell` automatically in the future. Please pass the result to `transformed_cell` argument and any exception that happen during thetransform in `preprocessing_exc_tuple` in IPython 7.17 and above.\n",
            "  and should_run_async(code)\n"
          ]
        },
        {
          "output_type": "execute_result",
          "data": {
            "text/plain": [
              "                0  1    2    3    4    5    6  7    8    9\n",
              "Partition ID                                              \n",
              "0               0  0    0    0    0    0  329  0    0  314\n",
              "1               0  0    0    0  390    0    0  0    0  314\n",
              "2             247  0    0    0    0    0    0  0  209    0\n",
              "3               0  0  426    0    0  201    0  0    0    0\n",
              "4               0  0    0    0    0  201    0  0  209    0\n",
              "...           ... ..  ...  ...  ...  ...  ... ..  ...  ...\n",
              "95              0  0  425    0    0    0    0  0    0  313\n",
              "96              0  0    0    0    0    0  328  0  209    0\n",
              "97            246  0    0    0    0    0    0  0  209    0\n",
              "98              0  0  425    0    0    0    0  0  208    0\n",
              "99            246  0    0  218    0    0    0  0    0    0\n",
              "\n",
              "[100 rows x 10 columns]"
            ],
            "text/html": [
              "\n",
              "  <div id=\"df-f024d2ed-9780-45ed-a170-81b1a8afc516\" class=\"colab-df-container\">\n",
              "    <div>\n",
              "<style scoped>\n",
              "    .dataframe tbody tr th:only-of-type {\n",
              "        vertical-align: middle;\n",
              "    }\n",
              "\n",
              "    .dataframe tbody tr th {\n",
              "        vertical-align: top;\n",
              "    }\n",
              "\n",
              "    .dataframe thead th {\n",
              "        text-align: right;\n",
              "    }\n",
              "</style>\n",
              "<table border=\"1\" class=\"dataframe\">\n",
              "  <thead>\n",
              "    <tr style=\"text-align: right;\">\n",
              "      <th></th>\n",
              "      <th>0</th>\n",
              "      <th>1</th>\n",
              "      <th>2</th>\n",
              "      <th>3</th>\n",
              "      <th>4</th>\n",
              "      <th>5</th>\n",
              "      <th>6</th>\n",
              "      <th>7</th>\n",
              "      <th>8</th>\n",
              "      <th>9</th>\n",
              "    </tr>\n",
              "    <tr>\n",
              "      <th>Partition ID</th>\n",
              "      <th></th>\n",
              "      <th></th>\n",
              "      <th></th>\n",
              "      <th></th>\n",
              "      <th></th>\n",
              "      <th></th>\n",
              "      <th></th>\n",
              "      <th></th>\n",
              "      <th></th>\n",
              "      <th></th>\n",
              "    </tr>\n",
              "  </thead>\n",
              "  <tbody>\n",
              "    <tr>\n",
              "      <th>0</th>\n",
              "      <td>0</td>\n",
              "      <td>0</td>\n",
              "      <td>0</td>\n",
              "      <td>0</td>\n",
              "      <td>0</td>\n",
              "      <td>0</td>\n",
              "      <td>329</td>\n",
              "      <td>0</td>\n",
              "      <td>0</td>\n",
              "      <td>314</td>\n",
              "    </tr>\n",
              "    <tr>\n",
              "      <th>1</th>\n",
              "      <td>0</td>\n",
              "      <td>0</td>\n",
              "      <td>0</td>\n",
              "      <td>0</td>\n",
              "      <td>390</td>\n",
              "      <td>0</td>\n",
              "      <td>0</td>\n",
              "      <td>0</td>\n",
              "      <td>0</td>\n",
              "      <td>314</td>\n",
              "    </tr>\n",
              "    <tr>\n",
              "      <th>2</th>\n",
              "      <td>247</td>\n",
              "      <td>0</td>\n",
              "      <td>0</td>\n",
              "      <td>0</td>\n",
              "      <td>0</td>\n",
              "      <td>0</td>\n",
              "      <td>0</td>\n",
              "      <td>0</td>\n",
              "      <td>209</td>\n",
              "      <td>0</td>\n",
              "    </tr>\n",
              "    <tr>\n",
              "      <th>3</th>\n",
              "      <td>0</td>\n",
              "      <td>0</td>\n",
              "      <td>426</td>\n",
              "      <td>0</td>\n",
              "      <td>0</td>\n",
              "      <td>201</td>\n",
              "      <td>0</td>\n",
              "      <td>0</td>\n",
              "      <td>0</td>\n",
              "      <td>0</td>\n",
              "    </tr>\n",
              "    <tr>\n",
              "      <th>4</th>\n",
              "      <td>0</td>\n",
              "      <td>0</td>\n",
              "      <td>0</td>\n",
              "      <td>0</td>\n",
              "      <td>0</td>\n",
              "      <td>201</td>\n",
              "      <td>0</td>\n",
              "      <td>0</td>\n",
              "      <td>209</td>\n",
              "      <td>0</td>\n",
              "    </tr>\n",
              "    <tr>\n",
              "      <th>...</th>\n",
              "      <td>...</td>\n",
              "      <td>...</td>\n",
              "      <td>...</td>\n",
              "      <td>...</td>\n",
              "      <td>...</td>\n",
              "      <td>...</td>\n",
              "      <td>...</td>\n",
              "      <td>...</td>\n",
              "      <td>...</td>\n",
              "      <td>...</td>\n",
              "    </tr>\n",
              "    <tr>\n",
              "      <th>95</th>\n",
              "      <td>0</td>\n",
              "      <td>0</td>\n",
              "      <td>425</td>\n",
              "      <td>0</td>\n",
              "      <td>0</td>\n",
              "      <td>0</td>\n",
              "      <td>0</td>\n",
              "      <td>0</td>\n",
              "      <td>0</td>\n",
              "      <td>313</td>\n",
              "    </tr>\n",
              "    <tr>\n",
              "      <th>96</th>\n",
              "      <td>0</td>\n",
              "      <td>0</td>\n",
              "      <td>0</td>\n",
              "      <td>0</td>\n",
              "      <td>0</td>\n",
              "      <td>0</td>\n",
              "      <td>328</td>\n",
              "      <td>0</td>\n",
              "      <td>209</td>\n",
              "      <td>0</td>\n",
              "    </tr>\n",
              "    <tr>\n",
              "      <th>97</th>\n",
              "      <td>246</td>\n",
              "      <td>0</td>\n",
              "      <td>0</td>\n",
              "      <td>0</td>\n",
              "      <td>0</td>\n",
              "      <td>0</td>\n",
              "      <td>0</td>\n",
              "      <td>0</td>\n",
              "      <td>209</td>\n",
              "      <td>0</td>\n",
              "    </tr>\n",
              "    <tr>\n",
              "      <th>98</th>\n",
              "      <td>0</td>\n",
              "      <td>0</td>\n",
              "      <td>425</td>\n",
              "      <td>0</td>\n",
              "      <td>0</td>\n",
              "      <td>0</td>\n",
              "      <td>0</td>\n",
              "      <td>0</td>\n",
              "      <td>208</td>\n",
              "      <td>0</td>\n",
              "    </tr>\n",
              "    <tr>\n",
              "      <th>99</th>\n",
              "      <td>246</td>\n",
              "      <td>0</td>\n",
              "      <td>0</td>\n",
              "      <td>218</td>\n",
              "      <td>0</td>\n",
              "      <td>0</td>\n",
              "      <td>0</td>\n",
              "      <td>0</td>\n",
              "      <td>0</td>\n",
              "      <td>0</td>\n",
              "    </tr>\n",
              "  </tbody>\n",
              "</table>\n",
              "<p>100 rows × 10 columns</p>\n",
              "</div>\n",
              "    <div class=\"colab-df-buttons\">\n",
              "\n",
              "  <div class=\"colab-df-container\">\n",
              "    <button class=\"colab-df-convert\" onclick=\"convertToInteractive('df-f024d2ed-9780-45ed-a170-81b1a8afc516')\"\n",
              "            title=\"Convert this dataframe to an interactive table.\"\n",
              "            style=\"display:none;\">\n",
              "\n",
              "  <svg xmlns=\"http://www.w3.org/2000/svg\" height=\"24px\" viewBox=\"0 -960 960 960\">\n",
              "    <path d=\"M120-120v-720h720v720H120Zm60-500h600v-160H180v160Zm220 220h160v-160H400v160Zm0 220h160v-160H400v160ZM180-400h160v-160H180v160Zm440 0h160v-160H620v160ZM180-180h160v-160H180v160Zm440 0h160v-160H620v160Z\"/>\n",
              "  </svg>\n",
              "    </button>\n",
              "\n",
              "  <style>\n",
              "    .colab-df-container {\n",
              "      display:flex;\n",
              "      gap: 12px;\n",
              "    }\n",
              "\n",
              "    .colab-df-convert {\n",
              "      background-color: #E8F0FE;\n",
              "      border: none;\n",
              "      border-radius: 50%;\n",
              "      cursor: pointer;\n",
              "      display: none;\n",
              "      fill: #1967D2;\n",
              "      height: 32px;\n",
              "      padding: 0 0 0 0;\n",
              "      width: 32px;\n",
              "    }\n",
              "\n",
              "    .colab-df-convert:hover {\n",
              "      background-color: #E2EBFA;\n",
              "      box-shadow: 0px 1px 2px rgba(60, 64, 67, 0.3), 0px 1px 3px 1px rgba(60, 64, 67, 0.15);\n",
              "      fill: #174EA6;\n",
              "    }\n",
              "\n",
              "    .colab-df-buttons div {\n",
              "      margin-bottom: 4px;\n",
              "    }\n",
              "\n",
              "    [theme=dark] .colab-df-convert {\n",
              "      background-color: #3B4455;\n",
              "      fill: #D2E3FC;\n",
              "    }\n",
              "\n",
              "    [theme=dark] .colab-df-convert:hover {\n",
              "      background-color: #434B5C;\n",
              "      box-shadow: 0px 1px 3px 1px rgba(0, 0, 0, 0.15);\n",
              "      filter: drop-shadow(0px 1px 2px rgba(0, 0, 0, 0.3));\n",
              "      fill: #FFFFFF;\n",
              "    }\n",
              "  </style>\n",
              "\n",
              "    <script>\n",
              "      const buttonEl =\n",
              "        document.querySelector('#df-f024d2ed-9780-45ed-a170-81b1a8afc516 button.colab-df-convert');\n",
              "      buttonEl.style.display =\n",
              "        google.colab.kernel.accessAllowed ? 'block' : 'none';\n",
              "\n",
              "      async function convertToInteractive(key) {\n",
              "        const element = document.querySelector('#df-f024d2ed-9780-45ed-a170-81b1a8afc516');\n",
              "        const dataTable =\n",
              "          await google.colab.kernel.invokeFunction('convertToInteractive',\n",
              "                                                    [key], {});\n",
              "        if (!dataTable) return;\n",
              "\n",
              "        const docLinkHtml = 'Like what you see? Visit the ' +\n",
              "          '<a target=\"_blank\" href=https://colab.research.google.com/notebooks/data_table.ipynb>data table notebook</a>'\n",
              "          + ' to learn more about interactive tables.';\n",
              "        element.innerHTML = '';\n",
              "        dataTable['output_type'] = 'display_data';\n",
              "        await google.colab.output.renderOutput(dataTable, element);\n",
              "        const docLink = document.createElement('div');\n",
              "        docLink.innerHTML = docLinkHtml;\n",
              "        element.appendChild(docLink);\n",
              "      }\n",
              "    </script>\n",
              "  </div>\n",
              "\n",
              "\n",
              "<div id=\"df-3e3255d6-5005-4f01-823b-741c43176666\">\n",
              "  <button class=\"colab-df-quickchart\" onclick=\"quickchart('df-3e3255d6-5005-4f01-823b-741c43176666')\"\n",
              "            title=\"Suggest charts\"\n",
              "            style=\"display:none;\">\n",
              "\n",
              "<svg xmlns=\"http://www.w3.org/2000/svg\" height=\"24px\"viewBox=\"0 0 24 24\"\n",
              "     width=\"24px\">\n",
              "    <g>\n",
              "        <path d=\"M19 3H5c-1.1 0-2 .9-2 2v14c0 1.1.9 2 2 2h14c1.1 0 2-.9 2-2V5c0-1.1-.9-2-2-2zM9 17H7v-7h2v7zm4 0h-2V7h2v10zm4 0h-2v-4h2v4z\"/>\n",
              "    </g>\n",
              "</svg>\n",
              "  </button>\n",
              "\n",
              "<style>\n",
              "  .colab-df-quickchart {\n",
              "      --bg-color: #E8F0FE;\n",
              "      --fill-color: #1967D2;\n",
              "      --hover-bg-color: #E2EBFA;\n",
              "      --hover-fill-color: #174EA6;\n",
              "      --disabled-fill-color: #AAA;\n",
              "      --disabled-bg-color: #DDD;\n",
              "  }\n",
              "\n",
              "  [theme=dark] .colab-df-quickchart {\n",
              "      --bg-color: #3B4455;\n",
              "      --fill-color: #D2E3FC;\n",
              "      --hover-bg-color: #434B5C;\n",
              "      --hover-fill-color: #FFFFFF;\n",
              "      --disabled-bg-color: #3B4455;\n",
              "      --disabled-fill-color: #666;\n",
              "  }\n",
              "\n",
              "  .colab-df-quickchart {\n",
              "    background-color: var(--bg-color);\n",
              "    border: none;\n",
              "    border-radius: 50%;\n",
              "    cursor: pointer;\n",
              "    display: none;\n",
              "    fill: var(--fill-color);\n",
              "    height: 32px;\n",
              "    padding: 0;\n",
              "    width: 32px;\n",
              "  }\n",
              "\n",
              "  .colab-df-quickchart:hover {\n",
              "    background-color: var(--hover-bg-color);\n",
              "    box-shadow: 0 1px 2px rgba(60, 64, 67, 0.3), 0 1px 3px 1px rgba(60, 64, 67, 0.15);\n",
              "    fill: var(--button-hover-fill-color);\n",
              "  }\n",
              "\n",
              "  .colab-df-quickchart-complete:disabled,\n",
              "  .colab-df-quickchart-complete:disabled:hover {\n",
              "    background-color: var(--disabled-bg-color);\n",
              "    fill: var(--disabled-fill-color);\n",
              "    box-shadow: none;\n",
              "  }\n",
              "\n",
              "  .colab-df-spinner {\n",
              "    border: 2px solid var(--fill-color);\n",
              "    border-color: transparent;\n",
              "    border-bottom-color: var(--fill-color);\n",
              "    animation:\n",
              "      spin 1s steps(1) infinite;\n",
              "  }\n",
              "\n",
              "  @keyframes spin {\n",
              "    0% {\n",
              "      border-color: transparent;\n",
              "      border-bottom-color: var(--fill-color);\n",
              "      border-left-color: var(--fill-color);\n",
              "    }\n",
              "    20% {\n",
              "      border-color: transparent;\n",
              "      border-left-color: var(--fill-color);\n",
              "      border-top-color: var(--fill-color);\n",
              "    }\n",
              "    30% {\n",
              "      border-color: transparent;\n",
              "      border-left-color: var(--fill-color);\n",
              "      border-top-color: var(--fill-color);\n",
              "      border-right-color: var(--fill-color);\n",
              "    }\n",
              "    40% {\n",
              "      border-color: transparent;\n",
              "      border-right-color: var(--fill-color);\n",
              "      border-top-color: var(--fill-color);\n",
              "    }\n",
              "    60% {\n",
              "      border-color: transparent;\n",
              "      border-right-color: var(--fill-color);\n",
              "    }\n",
              "    80% {\n",
              "      border-color: transparent;\n",
              "      border-right-color: var(--fill-color);\n",
              "      border-bottom-color: var(--fill-color);\n",
              "    }\n",
              "    90% {\n",
              "      border-color: transparent;\n",
              "      border-bottom-color: var(--fill-color);\n",
              "    }\n",
              "  }\n",
              "</style>\n",
              "\n",
              "  <script>\n",
              "    async function quickchart(key) {\n",
              "      const quickchartButtonEl =\n",
              "        document.querySelector('#' + key + ' button');\n",
              "      quickchartButtonEl.disabled = true;  // To prevent multiple clicks.\n",
              "      quickchartButtonEl.classList.add('colab-df-spinner');\n",
              "      try {\n",
              "        const charts = await google.colab.kernel.invokeFunction(\n",
              "            'suggestCharts', [key], {});\n",
              "      } catch (error) {\n",
              "        console.error('Error during call to suggestCharts:', error);\n",
              "      }\n",
              "      quickchartButtonEl.classList.remove('colab-df-spinner');\n",
              "      quickchartButtonEl.classList.add('colab-df-quickchart-complete');\n",
              "    }\n",
              "    (() => {\n",
              "      let quickchartButtonEl =\n",
              "        document.querySelector('#df-3e3255d6-5005-4f01-823b-741c43176666 button');\n",
              "      quickchartButtonEl.style.display =\n",
              "        google.colab.kernel.accessAllowed ? 'block' : 'none';\n",
              "    })();\n",
              "  </script>\n",
              "</div>\n",
              "\n",
              "  <div id=\"id_2b4835f9-168b-4fcb-ad3b-f0c201a4c289\">\n",
              "    <style>\n",
              "      .colab-df-generate {\n",
              "        background-color: #E8F0FE;\n",
              "        border: none;\n",
              "        border-radius: 50%;\n",
              "        cursor: pointer;\n",
              "        display: none;\n",
              "        fill: #1967D2;\n",
              "        height: 32px;\n",
              "        padding: 0 0 0 0;\n",
              "        width: 32px;\n",
              "      }\n",
              "\n",
              "      .colab-df-generate:hover {\n",
              "        background-color: #E2EBFA;\n",
              "        box-shadow: 0px 1px 2px rgba(60, 64, 67, 0.3), 0px 1px 3px 1px rgba(60, 64, 67, 0.15);\n",
              "        fill: #174EA6;\n",
              "      }\n",
              "\n",
              "      [theme=dark] .colab-df-generate {\n",
              "        background-color: #3B4455;\n",
              "        fill: #D2E3FC;\n",
              "      }\n",
              "\n",
              "      [theme=dark] .colab-df-generate:hover {\n",
              "        background-color: #434B5C;\n",
              "        box-shadow: 0px 1px 3px 1px rgba(0, 0, 0, 0.15);\n",
              "        filter: drop-shadow(0px 1px 2px rgba(0, 0, 0, 0.3));\n",
              "        fill: #FFFFFF;\n",
              "      }\n",
              "    </style>\n",
              "    <button class=\"colab-df-generate\" onclick=\"generateWithVariable('df')\"\n",
              "            title=\"Generate code using this dataframe.\"\n",
              "            style=\"display:none;\">\n",
              "\n",
              "  <svg xmlns=\"http://www.w3.org/2000/svg\" height=\"24px\"viewBox=\"0 0 24 24\"\n",
              "       width=\"24px\">\n",
              "    <path d=\"M7,19H8.4L18.45,9,17,7.55,7,17.6ZM5,21V16.75L18.45,3.32a2,2,0,0,1,2.83,0l1.4,1.43a1.91,1.91,0,0,1,.58,1.4,1.91,1.91,0,0,1-.58,1.4L9.25,21ZM18.45,9,17,7.55Zm-12,3A5.31,5.31,0,0,0,4.9,8.1,5.31,5.31,0,0,0,1,6.5,5.31,5.31,0,0,0,4.9,4.9,5.31,5.31,0,0,0,6.5,1,5.31,5.31,0,0,0,8.1,4.9,5.31,5.31,0,0,0,12,6.5,5.46,5.46,0,0,0,6.5,12Z\"/>\n",
              "  </svg>\n",
              "    </button>\n",
              "    <script>\n",
              "      (() => {\n",
              "      const buttonEl =\n",
              "        document.querySelector('#id_2b4835f9-168b-4fcb-ad3b-f0c201a4c289 button.colab-df-generate');\n",
              "      buttonEl.style.display =\n",
              "        google.colab.kernel.accessAllowed ? 'block' : 'none';\n",
              "\n",
              "      buttonEl.onclick = () => {\n",
              "        google.colab.notebook.generateWithVariable('df');\n",
              "      }\n",
              "      })();\n",
              "    </script>\n",
              "  </div>\n",
              "\n",
              "    </div>\n",
              "  </div>\n"
            ],
            "application/vnd.google.colaboratory.intrinsic+json": {
              "type": "dataframe",
              "variable_name": "df",
              "summary": "{\n  \"name\": \"df\",\n  \"rows\": 100,\n  \"fields\": [\n    {\n      \"column\": \"Partition ID\",\n      \"properties\": {\n        \"dtype\": \"number\",\n        \"std\": 29,\n        \"min\": 0,\n        \"max\": 99,\n        \"num_unique_values\": 100,\n        \"samples\": [\n          83,\n          53,\n          70\n        ],\n        \"semantic_type\": \"\",\n        \"description\": \"\"\n      }\n    },\n    {\n      \"column\": \"0\",\n      \"properties\": {\n        \"dtype\": \"number\",\n        \"std\": 105,\n        \"min\": 0,\n        \"max\": 247,\n        \"num_unique_values\": 3,\n        \"samples\": [\n          0,\n          247,\n          246\n        ],\n        \"semantic_type\": \"\",\n        \"description\": \"\"\n      }\n    },\n    {\n      \"column\": \"1\",\n      \"properties\": {\n        \"dtype\": \"number\",\n        \"std\": 144,\n        \"min\": 0,\n        \"max\": 375,\n        \"num_unique_values\": 3,\n        \"samples\": [\n          0,\n          375,\n          374\n        ],\n        \"semantic_type\": \"\",\n        \"description\": \"\"\n      }\n    },\n    {\n      \"column\": \"2\",\n      \"properties\": {\n        \"dtype\": \"number\",\n        \"std\": 148,\n        \"min\": 0,\n        \"max\": 426,\n        \"num_unique_values\": 3,\n        \"samples\": [\n          0,\n          426,\n          425\n        ],\n        \"semantic_type\": \"\",\n        \"description\": \"\"\n      }\n    },\n    {\n      \"column\": \"3\",\n      \"properties\": {\n        \"dtype\": \"number\",\n        \"std\": 98,\n        \"min\": 0,\n        \"max\": 219,\n        \"num_unique_values\": 3,\n        \"samples\": [\n          0,\n          219,\n          218\n        ],\n        \"semantic_type\": \"\",\n        \"description\": \"\"\n      }\n    },\n    {\n      \"column\": \"4\",\n      \"properties\": {\n        \"dtype\": \"number\",\n        \"std\": 139,\n        \"min\": 0,\n        \"max\": 390,\n        \"num_unique_values\": 3,\n        \"samples\": [\n          0,\n          390,\n          389\n        ],\n        \"semantic_type\": \"\",\n        \"description\": \"\"\n      }\n    },\n    {\n      \"column\": \"5\",\n      \"properties\": {\n        \"dtype\": \"number\",\n        \"std\": 89,\n        \"min\": 0,\n        \"max\": 201,\n        \"num_unique_values\": 3,\n        \"samples\": [\n          0,\n          201,\n          200\n        ],\n        \"semantic_type\": \"\",\n        \"description\": \"\"\n      }\n    },\n    {\n      \"column\": \"6\",\n      \"properties\": {\n        \"dtype\": \"number\",\n        \"std\": 126,\n        \"min\": 0,\n        \"max\": 329,\n        \"num_unique_values\": 3,\n        \"samples\": [\n          329,\n          0,\n          328\n        ],\n        \"semantic_type\": \"\",\n        \"description\": \"\"\n      }\n    },\n    {\n      \"column\": \"7\",\n      \"properties\": {\n        \"dtype\": \"number\",\n        \"std\": 200,\n        \"min\": 0,\n        \"max\": 697,\n        \"num_unique_values\": 3,\n        \"samples\": [\n          0,\n          697,\n          696\n        ],\n        \"semantic_type\": \"\",\n        \"description\": \"\"\n      }\n    },\n    {\n      \"column\": \"8\",\n      \"properties\": {\n        \"dtype\": \"number\",\n        \"std\": 94,\n        \"min\": 0,\n        \"max\": 209,\n        \"num_unique_values\": 3,\n        \"samples\": [\n          0,\n          209,\n          208\n        ],\n        \"semantic_type\": \"\",\n        \"description\": \"\"\n      }\n    },\n    {\n      \"column\": \"9\",\n      \"properties\": {\n        \"dtype\": \"number\",\n        \"std\": 123,\n        \"min\": 0,\n        \"max\": 314,\n        \"num_unique_values\": 3,\n        \"samples\": [\n          314,\n          0,\n          313\n        ],\n        \"semantic_type\": \"\",\n        \"description\": \"\"\n      }\n    }\n  ]\n}"
            }
          },
          "metadata": {},
          "execution_count": 44
        }
      ]
    },
    {
      "cell_type": "markdown",
      "metadata": {
        "id": "OyV6x7CAI6EH"
      },
      "source": [
        "## Model training/evaluation (PyTorch)"
      ]
    },
    {
      "cell_type": "code",
      "execution_count": 45,
      "metadata": {
        "id": "UkgcOZYyI6EH"
      },
      "outputs": [],
      "source": [
        "class MLPNet(nn.Module):\n",
        "\n",
        "    def __init__(self) -> None:\n",
        "        super(MLPNet, self).__init__()\n",
        "        self.layer1 = nn.Linear(28 * 28, 200)  # 28 x 28 pixels\n",
        "        self.layer2 = nn.Linear(200, 200)  # 2 hidden layers with 200 neurons each\n",
        "        self.layer3 = nn.Linear(200, 10)  # 10 classes\n",
        "        self.relu = nn.ReLU()\n",
        "        self.softmax = nn.Softmax(dim=1)\n",
        "\n",
        "    def forward(self, x: torch.Tensor) -> torch.Tensor:\n",
        "        x = self.relu(self.layer1(x))\n",
        "        x = self.relu(self.layer2(x))\n",
        "        x = self.softmax(self.layer3(x))\n",
        "        return x\n",
        "\n",
        "class KANNet(KAN):\n",
        "    def __init__(self) -> None:\n",
        "        super().__init__([28 * 28, 24, 24, 10])\n",
        "\n",
        "def create_network(net_type: str = NET_TYPE):\n",
        "    if net_type == \"mlp\":\n",
        "        return MLPNet()\n",
        "    elif net_type == \"kan\":\n",
        "        return KANNet()\n",
        "    else:\n",
        "        raise ValueError(f\"Unknown network type: {net_type}\")\n",
        "\n",
        "def get_parameters(net) -> List[np.ndarray]:\n",
        "    return [val.cpu().numpy() for _, val in net.state_dict().items()]\n",
        "\n",
        "\n",
        "def set_parameters(net, parameters: List[np.ndarray]):\n",
        "    params_dict = zip(net.state_dict().keys(), parameters)\n",
        "    state_dict = OrderedDict({k: torch.Tensor(v) for k, v in params_dict})\n",
        "    net.load_state_dict(state_dict, strict=True)\n",
        "\n",
        "\n",
        "def train(net, trainloader, epochs: int):\n",
        "    \"\"\"Train the network on the training set.\"\"\"\n",
        "    criterion = torch.nn.CrossEntropyLoss()\n",
        "    optimizer = torch.optim.SGD(\n",
        "        net.parameters(),\n",
        "        lr=LEARNING_RATE,\n",
        "        momentum=MOMENTUM)\n",
        "    net.train()\n",
        "    for epoch in range(epochs):\n",
        "        correct, total, epoch_loss = 0, 0, 0.0\n",
        "        for batch in trainloader:\n",
        "            images, labels = batch[\"image\"], batch[\"label\"]\n",
        "            images, labels = images.to(DEVICE), labels.to(DEVICE)\n",
        "            optimizer.zero_grad()\n",
        "            outputs = net(images)\n",
        "            loss = criterion(net(images), labels)\n",
        "            loss.backward()\n",
        "            optimizer.step()\n",
        "            # Metrics\n",
        "            epoch_loss += loss\n",
        "            total += labels.size(0)\n",
        "            correct += (torch.max(outputs.data, 1)[1] == labels).sum().item()\n",
        "        epoch_loss /= len(trainloader.dataset)\n",
        "        epoch_acc = correct / total\n",
        "        print(f\"Epoch {epoch+1}: train loss {epoch_loss}, accuracy {epoch_acc}\")\n",
        "        return epoch_loss, epoch_acc\n",
        "\n",
        "\n",
        "def test(net, testloader):\n",
        "    \"\"\"Evaluate the network on the entire test set.\"\"\"\n",
        "    criterion = torch.nn.CrossEntropyLoss()\n",
        "    correct, total, loss = 0, 0, 0.0\n",
        "    net.eval()\n",
        "    with torch.no_grad():\n",
        "        for batch in testloader:\n",
        "            images, labels = batch[\"image\"], batch[\"label\"]\n",
        "            images, labels = images.to(DEVICE), labels.to(DEVICE)\n",
        "            outputs = net(images)\n",
        "            loss += criterion(outputs, labels).item()\n",
        "            _, predicted = torch.max(outputs.data, 1)\n",
        "            total += labels.size(0)\n",
        "            correct += (predicted == labels).sum().item()\n",
        "    loss /= len(testloader.dataset)\n",
        "    accuracy = correct / total\n",
        "    return loss, accuracy"
      ]
    },
    {
      "cell_type": "markdown",
      "source": [
        "## Flower Architecture"
      ],
      "metadata": {
        "id": "CnePIVzhvnwa"
      }
    },
    {
      "cell_type": "markdown",
      "metadata": {
        "id": "fa_57hXVI6EH"
      },
      "source": [
        "### Flower client"
      ]
    },
    {
      "cell_type": "code",
      "execution_count": 46,
      "metadata": {
        "id": "vmaFziBmI6EH"
      },
      "outputs": [],
      "source": [
        "class FlowerClient(NumPyClient):\n",
        "    def __init__(self, pid, net, trainloader, valloader=None):\n",
        "        self.pid = pid  # partition ID of a client\n",
        "        self.net = net\n",
        "        self.trainloader = trainloader\n",
        "        self.valloader = valloader\n",
        "\n",
        "    def get_parameters(self, config):\n",
        "        print(f\"[Client {self.pid}] get_parameters\")\n",
        "        return get_parameters(self.net)\n",
        "\n",
        "    def fit(self, parameters, config):\n",
        "        # Read values from config\n",
        "        server_round = config[\"server_round\"]\n",
        "        local_epochs = config[\"local_epochs\"]\n",
        "\n",
        "        # Use values provided by the config\n",
        "        print(f\"[Client {self.pid}, round {server_round}] fit, config: {config}\")\n",
        "        set_parameters(self.net, parameters)\n",
        "        epoch_loss, epoch_accuracy = train(self.net, self.trainloader, epochs=local_epochs)\n",
        "        return get_parameters(self.net), len(self.trainloader), {\"epoch_loss\": float(epoch_loss),\n",
        "                                                                 \"epoch_accuracy\": float(epoch_accuracy)}\n",
        "\n",
        "    def evaluate(self, parameters, config):\n",
        "        print(f\"[Client {self.pid}] evaluate, config: {config}\")\n",
        "        set_parameters(self.net, parameters)\n",
        "        loss, accuracy = test(self.net, self.valloader)\n",
        "        return float(loss), len(self.valloader), {\"accuracy\": float(accuracy)}\n",
        "\n",
        "\n",
        "def client_fn(context: Context) -> Client:\n",
        "    net = create_network().to(DEVICE)\n",
        "    partition_id = context.node_config[\"partition-id\"]\n",
        "    num_partitions = context.node_config[\"num-partitions\"]\n",
        "    trainloader, _ = load_datasets(partition_id, num_partitions)\n",
        "    return FlowerClient(partition_id, net, trainloader).to_client()"
      ]
    },
    {
      "cell_type": "markdown",
      "metadata": {
        "id": "i7EY7Ev5I6EJ"
      },
      "source": [
        "### Server-side parameter **evaluation**"
      ]
    },
    {
      "cell_type": "markdown",
      "source": [
        "#### Save evaluation results"
      ],
      "metadata": {
        "id": "ct5CM8Qswl_1"
      }
    },
    {
      "cell_type": "code",
      "source": [
        "def create_new_history():\n",
        "    history = {\"net_type\": NET_TYPE,\n",
        "              \"test_accuracy\": [],\n",
        "              \"test_loss\": [],\n",
        "              \"train_accuracy\": [0.0], # No fit metrics before the first round\n",
        "              \"train_loss\": [0.0],\n",
        "              \"execution_time\": 0,\n",
        "              \"seed\": SEED,\n",
        "              \"batch_size\": BATCH_SIZE,\n",
        "              \"local_epochs\": LOCAL_EPOCHS,\n",
        "              \"fraction_clients\": FRACTION_CLIENTS,\n",
        "              \"comm_rounds\": COMM_ROUNDS,\n",
        "              \"num_partitions\": NUM_PARTITIONS,\n",
        "              \"device\": str(DEVICE),\n",
        "              \"learning_rate\": LEARNING_RATE,\n",
        "              \"momentum\": MOMENTUM,\n",
        "              }\n",
        "    return history\n",
        "\n",
        "# Need to use a global var because we can't pass our dictionary as argument\n",
        "def save_test_metrics(server_round: int, accuracy: float, loss: float):\n",
        "    HISTORY[\"test_accuracy\"].append((accuracy, server_round))\n",
        "    HISTORY[\"test_loss\"].append((loss, server_round))\n",
        "\n",
        "# Currently can't capture the server round inside the fit aggregation function\n",
        "def save_train_metrics(accuracy: float, loss: float):\n",
        "    HISTORY[\"train_accuracy\"].append(accuracy)\n",
        "    HISTORY[\"train_loss\"].append(loss)\n",
        "\n",
        "def save_execution_time(execution_time: float):\n",
        "    HISTORY[\"execution_time\"] = execution_time"
      ],
      "metadata": {
        "id": "7c9pe5BHwrxQ"
      },
      "execution_count": 47,
      "outputs": []
    },
    {
      "cell_type": "markdown",
      "source": [
        "#### Evaluation function"
      ],
      "metadata": {
        "id": "7OZV59Hi6xUV"
      }
    },
    {
      "cell_type": "code",
      "execution_count": 48,
      "metadata": {
        "id": "qIXUNjPsI6EJ"
      },
      "outputs": [],
      "source": [
        "# The `evaluate` function will be called by Flower after every round\n",
        "def evaluate(\n",
        "    server_round: int,\n",
        "    parameters: NDArrays,\n",
        "    config: Dict[str, Scalar],\n",
        ") -> Optional[Tuple[float, Dict[str, Scalar]]]:\n",
        "    net = create_network().to(DEVICE)\n",
        "    _, testloader = load_datasets(0, NUM_PARTITIONS)\n",
        "    set_parameters(net, parameters)  # Update model with the latest parameters\n",
        "    loss, accuracy = test(net, testloader)\n",
        "    print(f\"Server-side evaluation loss {loss} / accuracy {accuracy}\")\n",
        "    save_test_metrics(server_round, accuracy, loss)\n",
        "    return loss, {\"accuracy\": accuracy}"
      ]
    },
    {
      "cell_type": "markdown",
      "metadata": {
        "id": "Gttp2GVqI6EJ"
      },
      "source": [
        "### Training **Configuration** (e.g. epochs)\n",
        "\n",
        "\n"
      ]
    },
    {
      "cell_type": "code",
      "execution_count": 49,
      "metadata": {
        "id": "vuHrYQVYI6EJ"
      },
      "outputs": [],
      "source": [
        "def fit_config(server_round: int):\n",
        "    \"\"\"Return training configuration dict for each round.\n",
        "\n",
        "    \"\"\"\n",
        "    config = {\n",
        "        \"server_round\": server_round,  # The current round of federated learning\n",
        "        \"local_epochs\": LOCAL_EPOCHS,\n",
        "    }\n",
        "    return config"
      ]
    },
    {
      "cell_type": "markdown",
      "metadata": {
        "id": "uzF0C1qhI6EJ"
      },
      "source": [
        "### Flower **Server**"
      ]
    },
    {
      "cell_type": "markdown",
      "source": [
        "#### Fit (training) Metrics Aggregation"
      ],
      "metadata": {
        "id": "M0HFt0H2AZGW"
      }
    },
    {
      "cell_type": "code",
      "source": [
        "def weighted_average(metrics: List[Tuple[int, Metrics]]) -> Metrics:\n",
        "    \"\"\"Inspired by https://github.com/adap/flower/blob/0e7c1b06c32ab90e0d3cf64825ed51eedd715509/examples/custom-mods/server.py\"\"\"\n",
        "\n",
        "    # Get number of examples for each client used for training\n",
        "    examples = [num_examples for num_examples, _ in metrics]\n",
        "\n",
        "    # Multiply accuracy of each client by number of examples used\n",
        "    train_losses = [\n",
        "        num_examples * float(m[\"epoch_loss\"]) for num_examples, m in metrics\n",
        "    ]\n",
        "    train_accuracies = [\n",
        "        num_examples * float(m[\"epoch_accuracy\"]) for num_examples, m in metrics\n",
        "    ]\n",
        "\n",
        "    train_loss = sum(train_losses) / sum(examples)\n",
        "    train_accuracy = sum(train_accuracies) / sum(examples)\n",
        "\n",
        "    save_train_metrics(train_accuracy, train_loss)\n",
        "\n",
        "    # Aggregate and return custom metric (weighted average)\n",
        "    return {\n",
        "        \"train_loss\": sum(train_losses) / sum(examples),\n",
        "        \"train_accuracy\": sum(train_accuracies) / sum(examples),\n",
        "    }"
      ],
      "metadata": {
        "id": "Xgnl-ZkAAgpv"
      },
      "execution_count": 50,
      "outputs": []
    },
    {
      "cell_type": "markdown",
      "source": [
        "#### Server function"
      ],
      "metadata": {
        "id": "SX2Ec_oofTov"
      }
    },
    {
      "cell_type": "code",
      "execution_count": 51,
      "metadata": {
        "id": "SXvblF7nI6EJ",
        "collapsed": true
      },
      "outputs": [],
      "source": [
        "def server_fn(context: Context) -> ServerAppComponents:\n",
        "    # Create FedAvg strategy\n",
        "    strategy = FedAvg(\n",
        "        fraction_fit=FRACTION_CLIENTS,\n",
        "        fraction_evaluate=0,\n",
        "        min_fit_clients=1,\n",
        "        min_evaluate_clients=0,\n",
        "        min_available_clients=NUM_PARTITIONS,\n",
        "        initial_parameters=ndarrays_to_parameters(params),\n",
        "        evaluate_fn=evaluate,\n",
        "        on_fit_config_fn=fit_config,\n",
        "        fit_metrics_aggregation_fn=weighted_average,\n",
        "    )\n",
        "\n",
        "    config = ServerConfig(num_rounds=COMM_ROUNDS)\n",
        "    return ServerAppComponents(strategy=strategy, config=config)"
      ]
    },
    {
      "cell_type": "markdown",
      "source": [
        "## Helpers"
      ],
      "metadata": {
        "id": "OqKSZwkZXzvU"
      }
    },
    {
      "cell_type": "markdown",
      "source": [
        "### Get simulation execution time from Flower logs"
      ],
      "metadata": {
        "id": "7ngld4q1ZI-m"
      }
    },
    {
      "cell_type": "code",
      "source": [
        "def get_elapsed_time(log_filepath) -> float:\n",
        "    with open(log_filepath, 'r') as f:\n",
        "        log_content = f.read()\n",
        "\n",
        "        pattern = r'Run finished \\d+ round\\(s\\) in (\\d+\\.\\d+)s'\n",
        "        regex_match = re.search(pattern, log_content)\n",
        "\n",
        "        if regex_match:\n",
        "            elapsed_time = float(regex_match.group(1))\n",
        "            print(f\"Simulation execution time: {elapsed_time} seconds\")\n",
        "            return elapsed_time\n",
        "        else:\n",
        "            print(\"Could not find elapsed time.\")\n",
        "            return None"
      ],
      "metadata": {
        "id": "FoTvcaRQX4N3"
      },
      "execution_count": 52,
      "outputs": []
    },
    {
      "cell_type": "markdown",
      "source": [
        "## Simulation"
      ],
      "metadata": {
        "id": "GTENQaquvyQB"
      }
    },
    {
      "cell_type": "markdown",
      "metadata": {
        "id": "03QjhHjc6YhJ"
      },
      "source": [
        "### Global model **initialization**"
      ]
    },
    {
      "cell_type": "code",
      "execution_count": 53,
      "metadata": {
        "colab": {
          "base_uri": "https://localhost:8080/"
        },
        "outputId": "f6d6e7e6-bbee-4bb1-d75f-534d48e47030",
        "id": "Ob6G6nzf6YhP"
      },
      "outputs": [
        {
          "output_type": "stream",
          "name": "stdout",
          "text": [
            "Total number of parameters: 196320\n"
          ]
        }
      ],
      "source": [
        "# Create an instance of the model and get the parameters\n",
        "initial_model = create_network()\n",
        "params = get_parameters(initial_model)\n",
        "total_params = sum(p.numel() for p in initial_model.parameters() if p.requires_grad)\n",
        "print(f\"Total number of parameters: {total_params}\")"
      ]
    },
    {
      "cell_type": "markdown",
      "source": [
        "### Run Simulation"
      ],
      "metadata": {
        "id": "097-NdhcvNJR"
      }
    },
    {
      "cell_type": "code",
      "source": [
        "# Define hardware resources\n",
        "if DEVICE.type == \"cuda\":\n",
        "    backend_config = {\"client_resources\": {\"num_gpus\": 0.25, \"num_cpus\": 2}}\n",
        "else:\n",
        "    backend_config = {\"num_cpus\": 2}\n",
        "\n",
        "# Create Apps\n",
        "client = ClientApp(client_fn=client_fn)\n",
        "server = ServerApp(server_fn=server_fn)\n",
        "\n",
        "# create new history\n",
        "HISTORY = create_new_history()\n",
        "\n",
        "# Configure logs\n",
        "log_id = f\"log_{NET_TYPE}_seed_{SEED}\"\n",
        "log_filename = f\"{log_id}.txt\"\n",
        "flwr.common.logger.configure(\n",
        "    identifier=log_id,\n",
        "    filename=log_filename)\n",
        "\n",
        "# Run simulation\n",
        "run_simulation(\n",
        "    server_app=server,\n",
        "    client_app=client,\n",
        "    num_supernodes=NUM_PARTITIONS,\n",
        "    backend_config=backend_config,\n",
        ")\n",
        "\n",
        "save_execution_time(get_elapsed_time(log_filename))"
      ],
      "metadata": {
        "colab": {
          "base_uri": "https://localhost:8080/"
        },
        "id": "GRDtQsvsvMUN",
        "outputId": "e5f46db0-976c-45e9-cee7-297bbe043b0d",
        "collapsed": true
      },
      "execution_count": 54,
      "outputs": [
        {
          "output_type": "stream",
          "name": "stderr",
          "text": [
            "\u001b[92mINFO \u001b[0m:      Starting Flower ServerApp, config: num_rounds=2, no round_timeout\n",
            "\u001b[92mINFO \u001b[0m:      \n",
            "\u001b[92mINFO \u001b[0m:      [INIT]\n",
            "\u001b[92mINFO \u001b[0m:      Using initial global parameters provided by strategy\n",
            "\u001b[92mINFO \u001b[0m:      Starting evaluation of initial global parameters\n",
            "/usr/lib/python3.10/subprocess.py:1796: RuntimeWarning: os.fork() was called. os.fork() is incompatible with multithreaded code, and JAX is multithreaded, so this will likely lead to a deadlock.\n",
            "  self.pid = _posixsubprocess.fork_exec(\n",
            "/usr/lib/python3.10/subprocess.py:1796: RuntimeWarning: os.fork() was called. os.fork() is incompatible with multithreaded code, and JAX is multithreaded, so this will likely lead to a deadlock.\n",
            "  self.pid = _posixsubprocess.fork_exec(\n",
            "\u001b[36m(pid=7604)\u001b[0m 2024-09-09 00:44:42.508821: E external/local_xla/xla/stream_executor/cuda/cuda_fft.cc:485] Unable to register cuFFT factory: Attempting to register factory for plugin cuFFT when one has already been registered\n",
            "\u001b[36m(pid=7604)\u001b[0m 2024-09-09 00:44:42.550352: E external/local_xla/xla/stream_executor/cuda/cuda_dnn.cc:8454] Unable to register cuDNN factory: Attempting to register factory for plugin cuDNN when one has already been registered\n",
            "\u001b[36m(pid=7604)\u001b[0m 2024-09-09 00:44:42.563317: E external/local_xla/xla/stream_executor/cuda/cuda_blas.cc:1452] Unable to register cuBLAS factory: Attempting to register factory for plugin cuBLAS when one has already been registered\n",
            "\u001b[36m(pid=7604)\u001b[0m 2024-09-09 00:44:45.214146: W tensorflow/compiler/tf2tensorrt/utils/py_utils.cc:38] TF-TRT Warning: Could not find TensorRT\n",
            "\u001b[92mINFO \u001b[0m:      initial parameters (loss, other metrics): 0.02304033031463623, {'accuracy': 0.0776}\n",
            "\u001b[92mINFO \u001b[0m:      \n",
            "\u001b[92mINFO \u001b[0m:      [ROUND 1]\n",
            "\u001b[92mINFO \u001b[0m:      configure_fit: strategy sampled 5 clients (out of 100)\n"
          ]
        },
        {
          "output_type": "stream",
          "name": "stdout",
          "text": [
            "Server-side evaluation loss 0.02304033031463623 / accuracy 0.0776\n"
          ]
        },
        {
          "output_type": "stream",
          "name": "stderr",
          "text": [
            "\u001b[36m(ClientAppActor pid=7604)\u001b[0m /usr/local/lib/python3.10/dist-packages/jupyter_client/connect.py:28: DeprecationWarning: Jupyter is migrating its paths to use standard platformdirs\n",
            "\u001b[36m(ClientAppActor pid=7604)\u001b[0m given by the platformdirs library.  To remove this warning and\n",
            "\u001b[36m(ClientAppActor pid=7604)\u001b[0m see the appropriate new directories, set the environment variable\n",
            "\u001b[36m(ClientAppActor pid=7604)\u001b[0m `JUPYTER_PLATFORM_DIRS=1` and then run `jupyter --paths`.\n",
            "\u001b[36m(ClientAppActor pid=7604)\u001b[0m The use of platformdirs will be the default in `jupyter_core` v6\n",
            "\u001b[36m(ClientAppActor pid=7604)\u001b[0m   from jupyter_core.paths import jupyter_data_dir, jupyter_runtime_dir, secure_write\n"
          ]
        },
        {
          "output_type": "stream",
          "name": "stdout",
          "text": [
            "\u001b[36m(ClientAppActor pid=7604)\u001b[0m [Client 68, round 1] fit, config: {'server_round': 1, 'local_epochs': 1}\n",
            "\u001b[36m(ClientAppActor pid=7604)\u001b[0m Epoch 1: train loss 0.023716142401099205, accuracy 0.5919220055710307\n",
            "\u001b[36m(ClientAppActor pid=7604)\u001b[0m [Client 19, round 1] fit, config: {'server_round': 1, 'local_epochs': 1}\n",
            "\u001b[36m(ClientAppActor pid=7604)\u001b[0m Epoch 1: train loss 0.022084617987275124, accuracy 0.5736434108527132\n",
            "\u001b[36m(ClientAppActor pid=7604)\u001b[0m [Client 46, round 1] fit, config: {'server_round': 1, 'local_epochs': 1}\n",
            "\u001b[36m(ClientAppActor pid=7604)\u001b[0m Epoch 1: train loss 0.0217161662876606, accuracy 0.7569141193595342\n",
            "\u001b[36m(ClientAppActor pid=7604)\u001b[0m [Client 71, round 1] fit, config: {'server_round': 1, 'local_epochs': 1}\n",
            "\u001b[36m(ClientAppActor pid=7604)\u001b[0m Epoch 1: train loss 0.02426792122423649, accuracy 0.4248927038626609\n",
            "\u001b[36m(ClientAppActor pid=7604)\u001b[0m [Client 81, round 1] fit, config: {'server_round': 1, 'local_epochs': 1}\n"
          ]
        },
        {
          "output_type": "stream",
          "name": "stderr",
          "text": [
            "\u001b[92mINFO \u001b[0m:      aggregate_fit: received 5 results and 0 failures\n"
          ]
        },
        {
          "output_type": "stream",
          "name": "stdout",
          "text": [
            "\u001b[36m(ClientAppActor pid=7604)\u001b[0m Epoch 1: train loss 0.02255888469517231, accuracy 0.5327635327635327\n"
          ]
        },
        {
          "output_type": "stream",
          "name": "stderr",
          "text": [
            "\u001b[92mINFO \u001b[0m:      fit progress: (1, 0.02311667859554291, {'accuracy': 0.0982}, 32.15414692799982)\n",
            "\u001b[92mINFO \u001b[0m:      configure_evaluate: no clients selected, skipping evaluation\n",
            "\u001b[92mINFO \u001b[0m:      \n",
            "\u001b[92mINFO \u001b[0m:      [ROUND 2]\n",
            "\u001b[92mINFO \u001b[0m:      configure_fit: strategy sampled 5 clients (out of 100)\n"
          ]
        },
        {
          "output_type": "stream",
          "name": "stdout",
          "text": [
            "Server-side evaluation loss 0.02311667859554291 / accuracy 0.0982\n",
            "\u001b[36m(ClientAppActor pid=7604)\u001b[0m [Client 25, round 2] fit, config: {'server_round': 2, 'local_epochs': 1}\n",
            "\u001b[36m(ClientAppActor pid=7604)\u001b[0m Epoch 1: train loss 0.017326487228274345, accuracy 0.45738636363636365\n",
            "\u001b[36m(ClientAppActor pid=7604)\u001b[0m [Client 32, round 2] fit, config: {'server_round': 2, 'local_epochs': 1}\n",
            "\u001b[36m(ClientAppActor pid=7604)\u001b[0m Epoch 1: train loss 0.018868809565901756, accuracy 0.4160958904109589\n",
            "\u001b[36m(ClientAppActor pid=7604)\u001b[0m [Client 69, round 2] fit, config: {'server_round': 2, 'local_epochs': 1}\n",
            "\u001b[36m(ClientAppActor pid=7604)\u001b[0m Epoch 1: train loss 0.01672770082950592, accuracy 0.5212201591511937\n",
            "\u001b[36m(ClientAppActor pid=7604)\u001b[0m [Client 97, round 2] fit, config: {'server_round': 2, 'local_epochs': 1}\n",
            "\u001b[36m(ClientAppActor pid=7604)\u001b[0m Epoch 1: train loss 0.02543235756456852, accuracy 0.17582417582417584\n",
            "\u001b[36m(ClientAppActor pid=7604)\u001b[0m [Client 99, round 2] fit, config: {'server_round': 2, 'local_epochs': 1}\n"
          ]
        },
        {
          "output_type": "stream",
          "name": "stderr",
          "text": [
            "\u001b[92mINFO \u001b[0m:      aggregate_fit: received 5 results and 0 failures\n"
          ]
        },
        {
          "output_type": "stream",
          "name": "stdout",
          "text": [
            "\u001b[36m(ClientAppActor pid=7604)\u001b[0m Epoch 1: train loss 0.022021392360329628, accuracy 0.16163793103448276\n"
          ]
        },
        {
          "output_type": "stream",
          "name": "stderr",
          "text": [
            "\u001b[92mINFO \u001b[0m:      fit progress: (2, 0.034924138879776, {'accuracy': 0.0958}, 51.86547183599987)\n",
            "\u001b[92mINFO \u001b[0m:      configure_evaluate: no clients selected, skipping evaluation\n",
            "\u001b[92mINFO \u001b[0m:      \n",
            "\u001b[92mINFO \u001b[0m:      [SUMMARY]\n",
            "\u001b[92mINFO \u001b[0m:      Run finished 2 round(s) in 51.87s\n",
            "\u001b[92mINFO \u001b[0m:      \tHistory (loss, centralized):\n",
            "\u001b[92mINFO \u001b[0m:      \t\tround 0: 0.02304033031463623\n",
            "\u001b[92mINFO \u001b[0m:      \t\tround 1: 0.02311667859554291\n",
            "\u001b[92mINFO \u001b[0m:      \t\tround 2: 0.034924138879776\n",
            "\u001b[92mINFO \u001b[0m:      \tHistory (metrics, distributed, fit):\n",
            "\u001b[92mINFO \u001b[0m:      \t{'train_accuracy': [(1, 0.5838814439278727), (2, 0.3753980643456096)],\n",
            "\u001b[92mINFO \u001b[0m:      \t 'train_loss': [(1, 0.022804151794740133), (2, 0.01946609723381698)]}\n",
            "\u001b[92mINFO \u001b[0m:      \tHistory (metrics, centralized):\n",
            "\u001b[92mINFO \u001b[0m:      \t{'accuracy': [(0, 0.0776), (1, 0.0982), (2, 0.0958)]}\n",
            "\u001b[92mINFO \u001b[0m:      \n"
          ]
        },
        {
          "output_type": "stream",
          "name": "stdout",
          "text": [
            "Server-side evaluation loss 0.034924138879776 / accuracy 0.0958\n",
            "Simulation execution time: 51.87 seconds\n"
          ]
        }
      ]
    },
    {
      "cell_type": "markdown",
      "source": [
        "### Serialize Results and Save to Google Drive"
      ],
      "metadata": {
        "id": "Mw9XQBNzbWa9"
      }
    },
    {
      "cell_type": "code",
      "source": [
        "drive.mount('/content/drive')\n",
        "folder = \"/content/drive/MyDrive/Colab Notebooks/KANs/Pilot Results/\"\n",
        "filename = f\"hist_{NET_TYPE}_s{SEED}_r{COMM_ROUNDS}_{str(DEVICE)}.json\"\n",
        "filepath = folder + filename"
      ],
      "metadata": {
        "colab": {
          "base_uri": "https://localhost:8080/"
        },
        "id": "tB48GH4gbZyJ",
        "outputId": "7d660251-6d42-407c-98bd-e16e9d10748c"
      },
      "execution_count": 55,
      "outputs": [
        {
          "output_type": "stream",
          "name": "stdout",
          "text": [
            "Drive already mounted at /content/drive; to attempt to forcibly remount, call drive.mount(\"/content/drive\", force_remount=True).\n"
          ]
        }
      ]
    },
    {
      "cell_type": "code",
      "source": [
        "with open(filepath, 'w') as f:\n",
        "    json.dump(HISTORY, f, indent=4)"
      ],
      "metadata": {
        "id": "v9fb2n38KErU"
      },
      "execution_count": 56,
      "outputs": []
    },
    {
      "cell_type": "code",
      "source": [
        "with open(filepath, 'r') as f:\n",
        "    x = json.load(f)\n",
        "x"
      ],
      "metadata": {
        "colab": {
          "base_uri": "https://localhost:8080/"
        },
        "id": "KNiWaSw8gsAh",
        "outputId": "af178c89-8af2-4608-e229-20f5cc7531dd"
      },
      "execution_count": 57,
      "outputs": [
        {
          "output_type": "execute_result",
          "data": {
            "text/plain": [
              "{'net_type': 'kan',\n",
              " 'test_accuracy': [[0.0776, 0], [0.0982, 1], [0.0958, 2]],\n",
              " 'test_loss': [[0.02304033031463623, 0],\n",
              "  [0.02311667859554291, 1],\n",
              "  [0.034924138879776, 2]],\n",
              " 'train_accuracy': [0.0, 0.5838814439278727, 0.3753980643456096],\n",
              " 'train_loss': [0.0, 0.022804151794740133, 0.01946609723381698],\n",
              " 'execution_time': 51.87,\n",
              " 'seed': 4,\n",
              " 'batch_size': 100,\n",
              " 'local_epochs': 1,\n",
              " 'fraction_clients': 0.05,\n",
              " 'comm_rounds': 2,\n",
              " 'num_partitions': 100,\n",
              " 'device': 'cpu',\n",
              " 'learning_rate': 0.1,\n",
              " 'momentum': 0.9}"
            ]
          },
          "metadata": {},
          "execution_count": 57
        }
      ]
    },
    {
      "cell_type": "markdown",
      "source": [
        "## Plot all results"
      ],
      "metadata": {
        "id": "3ony5Z-EbajM"
      }
    },
    {
      "cell_type": "markdown",
      "source": [
        "### Gather JSON data from Google Drive"
      ],
      "metadata": {
        "id": "80rvOH8Mw_vr"
      }
    },
    {
      "cell_type": "code",
      "source": [
        "# Get a list of all JSON files in the folder\n",
        "json_files = [f for f in os.listdir(folder) if f.endswith('.json')]\n",
        "\n",
        "# Initialize separate lists for 'kan' and 'mlp' data\n",
        "kan_data = []\n",
        "mlp_data = []\n",
        "\n",
        "# Load and separate the data based on 'net_type'\n",
        "for json_file in json_files:\n",
        "    with open(os.path.join(folder, json_file), 'r') as f:\n",
        "        data = json.load(f)\n",
        "        if data['net_type'] == 'kan':\n",
        "            kan_data.append(data)\n",
        "        elif data['net_type'] == 'mlp':\n",
        "            mlp_data.append(data)"
      ],
      "metadata": {
        "id": "JyMQN9oAt0eV"
      },
      "execution_count": 58,
      "outputs": []
    },
    {
      "cell_type": "markdown",
      "source": [
        "### Extract metrics and hyperparameters from each execution"
      ],
      "metadata": {
        "id": "hpoBlOlZxbNS"
      }
    },
    {
      "cell_type": "code",
      "source": [
        "def aggregate_data(data_list):\n",
        "    \"\"\" Aggregate metrics for a given list of JSON data \"\"\"\n",
        "    train_accuracies = []\n",
        "    test_accuracies = []\n",
        "    train_losses = []\n",
        "    test_losses = []\n",
        "\n",
        "    for data in data_list:\n",
        "        train_accuracies.append([acc for acc in data['train_accuracy'][1:]])  # Skip the first element\n",
        "        test_accuracies.append([acc[0] for acc in data['test_accuracy'][1:]])  # Skip the first element\n",
        "        train_losses.append([loss for loss in data['train_loss'][1:]])  # Skip the first element\n",
        "        test_losses.append([loss[0] for loss in data['test_loss'][1:]])  # Skip the first element\n",
        "\n",
        "    # Convert lists to numpy arrays for easier aggregation\n",
        "    train_accuracies = np.array(train_accuracies)\n",
        "    test_accuracies = np.array(test_accuracies)\n",
        "    train_losses = np.array(train_losses)\n",
        "    test_losses = np.array(test_losses)\n",
        "\n",
        "    # Calculate means and standard deviations\n",
        "    train_acc_mean = np.mean(train_accuracies, axis=0)\n",
        "    train_acc_std = np.std(train_accuracies, axis=0)\n",
        "\n",
        "    test_acc_mean = np.mean(test_accuracies, axis=0)\n",
        "    test_acc_std = np.std(test_accuracies, axis=0)\n",
        "\n",
        "    train_loss_mean = np.mean(train_losses, axis=0)\n",
        "    train_loss_std = np.std(train_losses, axis=0)\n",
        "\n",
        "    test_loss_mean = np.mean(test_losses, axis=0)\n",
        "    test_loss_std = np.std(test_losses, axis=0)\n",
        "\n",
        "    return train_acc_mean, train_acc_std, test_acc_mean, test_acc_std, train_loss_mean, train_loss_std, test_loss_mean, test_loss_std\n",
        "\n",
        "# Aggregate data for 'kan' and 'mlp'\n",
        "kan_results = aggregate_data(kan_data)\n",
        "mlp_results = aggregate_data(mlp_data)\n",
        "\n",
        "# Assuming all gathered simulation had the same hyperparameters\n",
        "hyperparameters = (f\"lr={kan_data[0]['learning_rate']}, bs={kan_data[0]['batch_size']}, \"\n",
        "                  f\"epochs={kan_data[0]['local_epochs']}, frac={kan_data[0]['fraction_clients']}\")\n",
        "\n",
        "# Define the communication rounds (assuming all files have the same number of rounds)\n",
        "comm_rounds = list(range(1, len(kan_results[0]) + 1))"
      ],
      "metadata": {
        "id": "bIZSkpMmxJLA"
      },
      "execution_count": 59,
      "outputs": []
    },
    {
      "cell_type": "markdown",
      "source": [
        "### Plot all Metrics"
      ],
      "metadata": {
        "id": "PReR-oABxqBk"
      }
    },
    {
      "cell_type": "code",
      "source": [
        "figsize=(8, 6)\n",
        "\n",
        "# Plot Training Accuracy with error bands for 'kan' and 'mlp'\n",
        "plt.figure(figsize=figsize)\n",
        "plt.plot(comm_rounds, kan_results[0], 'b-', label='KAN Training Accuracy')\n",
        "plt.fill_between(comm_rounds, kan_results[0] - kan_results[1], kan_results[0] + kan_results[1], color='b', alpha=0.2)\n",
        "plt.plot(comm_rounds, mlp_results[0], 'r-', label='MLP Training Accuracy')\n",
        "plt.fill_between(comm_rounds, mlp_results[0] - mlp_results[1], mlp_results[0] + mlp_results[1], color='r', alpha=0.2)\n",
        "plt.title(f\"Training Accuracy - KAN vs MLP\")\n",
        "plt.xlabel(\"Communication Rounds\")\n",
        "plt.ylabel(\"Training Accuracy\")\n",
        "plt.ylim(0, 1)\n",
        "plt.xticks(comm_rounds)\n",
        "plt.legend()\n",
        "plt.show()\n",
        "\n",
        "# Plot Test Accuracy with error bands for 'kan' and 'mlp'\n",
        "plt.figure(figsize=figsize)\n",
        "plt.plot(comm_rounds, kan_results[2], 'b-', label='KAN Test Accuracy')\n",
        "plt.fill_between(comm_rounds, kan_results[2] - kan_results[3], kan_results[2] + kan_results[3], color='b', alpha=0.2)\n",
        "plt.plot(comm_rounds, mlp_results[2], 'r-', label='MLP Test Accuracy')\n",
        "plt.fill_between(comm_rounds, mlp_results[2] - mlp_results[3], mlp_results[2] + mlp_results[3], color='r', alpha=0.2)\n",
        "plt.title(f\"Test Accuracy - KAN vs MLP\")\n",
        "plt.xlabel(\"Communication Rounds\")\n",
        "plt.ylabel(\"Test Accuracy\")\n",
        "plt.ylim(0, 1)\n",
        "plt.xticks(comm_rounds)\n",
        "plt.legend()\n",
        "plt.show()\n",
        "\n",
        "# Plot Training Loss with error bands for 'kan' and 'mlp'\n",
        "plt.figure(figsize=figsize)\n",
        "plt.plot(comm_rounds, kan_results[4], 'b-', label='KAN Training Loss')\n",
        "plt.fill_between(comm_rounds, kan_results[4] - kan_results[5], kan_results[4] + kan_results[5], color='b', alpha=0.2)\n",
        "plt.plot(comm_rounds, mlp_results[4], 'r-', label='MLP Training Loss')\n",
        "plt.fill_between(comm_rounds, mlp_results[4] - mlp_results[5], mlp_results[4] + mlp_results[5], color='r', alpha=0.2)\n",
        "plt.title(f\"Training Loss - KAN vs MLP\")\n",
        "plt.xlabel(\"Communication Rounds\")\n",
        "plt.ylabel(\"Training Loss\")\n",
        "plt.xticks(comm_rounds)\n",
        "plt.legend()\n",
        "plt.show()\n",
        "\n",
        "# Plot Test Loss with error bands for 'kan' and 'mlp'\n",
        "plt.figure(figsize=figsize)\n",
        "plt.plot(comm_rounds, kan_results[6], 'b-', label='KAN Test Loss')\n",
        "plt.fill_between(comm_rounds, kan_results[6] - kan_results[7], kan_results[6] + kan_results[7], color='b', alpha=0.2)\n",
        "plt.plot(comm_rounds, mlp_results[6], 'r-', label='MLP Test Loss')\n",
        "plt.fill_between(comm_rounds, mlp_results[6] - mlp_results[7], mlp_results[6] + mlp_results[7], color='r', alpha=0.2)\n",
        "plt.title(f\"Test Loss - KAN vs MLP\")\n",
        "plt.xlabel(\"Communication Rounds\")\n",
        "plt.ylabel(\"Test Loss\")\n",
        "plt.xticks(comm_rounds)\n",
        "plt.legend()\n",
        "plt.show()"
      ],
      "metadata": {
        "colab": {
          "base_uri": "https://localhost:8080/",
          "height": 1000
        },
        "id": "PFTzfHZoxs0N",
        "outputId": "6f9c4147-2cb8-4ed5-fb20-f317e1de4669"
      },
      "execution_count": 60,
      "outputs": [
        {
          "output_type": "display_data",
          "data": {
            "text/plain": [
              "<Figure size 800x600 with 1 Axes>"
            ],
            "image/png": "[encoded data removed]"
          },
          "metadata": {}
        },
        {
          "output_type": "display_data",
          "data": {
            "text/plain": [
              "<Figure size 800x600 with 1 Axes>"
            ],
            "image/png": "[encoded data removed]"
          },
          "metadata": {}
        },
        {
          "output_type": "display_data",
          "data": {
            "text/plain": [
              "<Figure size 800x600 with 1 Axes>"
            ],
            "image/png": "[encoded data removed]"
          },
          "metadata": {}
        },
        {
          "output_type": "display_data",
          "data": {
            "text/plain": [
              "<Figure size 800x600 with 1 Axes>"
            ],
            "image/png": "[encoded data removed]"
          },
          "metadata": {}
        }
      ]
    },
    {
      "cell_type": "code",
      "source": [
        "HISTORY"
      ],
      "metadata": {
        "colab": {
          "base_uri": "https://localhost:8080/"
        },
        "id": "3tSoq3SoasgA",
        "outputId": "120e94b8-dfab-438d-b7ba-87dcf95eb132"
      },
      "execution_count": 40,
      "outputs": [
        {
          "output_type": "execute_result",
          "data": {
            "text/plain": [
              "{'net_type': 'mlp',\n",
              " 'test_accuracy': [(0.0829, 0), (0.0982, 1), (0.1072, 2)],\n",
              " 'test_loss': [(0.023039782738685607, 0),\n",
              "  (0.022960526633262635, 1),\n",
              "  (0.022970403575897216, 2)],\n",
              " 'train_accuracy': [0.0, 0.4294074325101606, 0.32458407065661954],\n",
              " 'train_loss': [0.0, 0.02342013791203499, 0.022955818159971386],\n",
              " 'execution_time': 58.22,\n",
              " 'seed': 1,\n",
              " 'batch_size': 100,\n",
              " 'local_epochs': 1,\n",
              " 'fraction_clients': 0.05,\n",
              " 'comm_rounds': 2,\n",
              " 'num_partitions': 100,\n",
              " 'device': device(type='cpu'),\n",
              " 'learning_rate': 0.1,\n",
              " 'momentum': 0.9}"
            ]
          },
          "metadata": {},
          "execution_count": 40
        }
      ]
    }
  ],
  "metadata": {
    "colab": {
      "provenance": [],
      "collapsed_sections": [
        "yTIHW-Zdx4pc",
        "C6jR8cN7I6EG",
        "OyV6x7CAI6EH",
        "fa_57hXVI6EH",
        "i7EY7Ev5I6EJ",
        "Gttp2GVqI6EJ",
        "uzF0C1qhI6EJ",
        "M0HFt0H2AZGW",
        "OqKSZwkZXzvU"
      ],
      "include_colab_link": true
    },
    "kernelspec": {
      "display_name": "Python 3",
      "name": "python3"
    }
  },
  "nbformat": 4,
  "nbformat_minor": 0
}