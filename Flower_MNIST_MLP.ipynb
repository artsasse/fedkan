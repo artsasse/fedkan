{
  "cells": [
    {
      "cell_type": "markdown",
      "metadata": {
        "id": "view-in-github",
        "colab_type": "text"
      },
      "source": [
        "<a href=\"https://colab.research.google.com/github/artsasse/fedkan/blob/main/Flower_MNIST_MLP.ipynb\" target=\"_parent\"><img src=\"https://colab.research.google.com/assets/colab-badge.svg\" alt=\"Open In Colab\"/></a>"
      ]
    },
    {
      "cell_type": "markdown",
      "metadata": {
        "id": "O-k1Z1KHI6EC"
      },
      "source": [
        "# Using a Federated MLP to classify MNIST\n",
        "\n",
        "This notebook is based mainly on the Flower Tutorial \"Use a federated learning strategy\", found in https://flower.ai/docs/framework/tutorial-series-use-a-federated-learning-strategy-pytorch.html ."
      ]
    },
    {
      "cell_type": "markdown",
      "metadata": {
        "id": "dYOHo7tsI6EE"
      },
      "source": [
        "## Dependencies"
      ]
    },
    {
      "cell_type": "code",
      "execution_count": null,
      "metadata": {
        "id": "BOUqWBtaI6EE"
      },
      "outputs": [],
      "source": [
        "pip install -q flwr[simulation] flwr-datasets[vision] torch torchvision"
      ]
    },
    {
      "cell_type": "code",
      "execution_count": null,
      "metadata": {
        "id": "Y25quxLmI6EF",
        "colab": {
          "base_uri": "https://localhost:8080/"
        },
        "outputId": "15aa8c2a-e9c9-49b8-8111-2ee7db9ca1af"
      },
      "outputs": [
        {
          "output_type": "stream",
          "name": "stdout",
          "text": [
            "Training on cpu\n",
            "Flower 1.10.0 / PyTorch 2.3.1+cu121\n"
          ]
        }
      ],
      "source": [
        "from collections import OrderedDict\n",
        "from typing import Dict, List, Optional, Tuple\n",
        "\n",
        "import numpy as np\n",
        "import torch\n",
        "import torch.nn as nn\n",
        "import torch.nn.functional as F\n",
        "import torchvision.transforms as transforms\n",
        "from torch.utils.data import DataLoader\n",
        "\n",
        "import flwr\n",
        "from flwr.client import Client, ClientApp, NumPyClient\n",
        "from flwr.server import ServerApp, ServerConfig, ServerAppComponents\n",
        "from flwr.server.strategy import FedAvg, FedAdagrad\n",
        "from flwr.simulation import run_simulation\n",
        "from flwr_datasets import FederatedDataset\n",
        "from flwr.common import ndarrays_to_parameters, NDArrays, Scalar, Context\n",
        "\n",
        "# Preciso alterar o runtime para usar GPU (SASSE)\n",
        "# DEVICE = torch.device(\"cuda\")  # Try \"cuda\" to train on GPU\n",
        "DEVICE = torch.device(\"cpu\")  # Run training on CPU\n",
        "print(f\"Training on {DEVICE}\")\n",
        "print(f\"Flower {flwr.__version__} / PyTorch {torch.__version__}\")"
      ]
    },
    {
      "cell_type": "markdown",
      "metadata": {
        "id": "C6jR8cN7I6EG"
      },
      "source": [
        "## Data loading"
      ]
    },
    {
      "cell_type": "code",
      "execution_count": null,
      "metadata": {
        "id": "tc70GEH5I6EH"
      },
      "outputs": [],
      "source": [
        "NUM_PARTITIONS = 10\n",
        "# SASSE - confirmar o batch size\n",
        "BATCH_SIZE = 32\n",
        "\n",
        "\n",
        "def load_datasets(partition_id: int, num_partitions: int):\n",
        "    fds = FederatedDataset(dataset=\"mnist\", partitioners={\"train\": num_partitions})\n",
        "    partition = fds.load_partition(partition_id)\n",
        "    # Divide data on each node: 80% train, 20% test\n",
        "    partition_train_test = partition.train_test_split(test_size=0.2, seed=42)\n",
        "\n",
        "    pytorch_transforms = transforms.Compose(\n",
        "        [transforms.ToTensor(),\n",
        "         transforms.Normalize((0.5,), (0.5,)),\n",
        "         transforms.Lambda(lambda x: torch.flatten(x))  # Flatten the image into a 1D tensor\n",
        "         ]\n",
        "    )\n",
        "\n",
        "    def apply_transforms(batch):\n",
        "        # Instead of passing transforms to MNIST(..., transform=transform)\n",
        "        # we will use this function to dataset.with_transform(apply_transforms)\n",
        "        # The transforms object is exactly the same\n",
        "        batch[\"image\"] = [pytorch_transforms(img) for img in batch[\"image\"]]\n",
        "        return batch\n",
        "\n",
        "    partition_train_test = partition_train_test.with_transform(apply_transforms)\n",
        "    trainloader = DataLoader(\n",
        "        partition_train_test[\"train\"], batch_size=BATCH_SIZE, shuffle=True\n",
        "    )\n",
        "    valloader = DataLoader(partition_train_test[\"test\"], batch_size=BATCH_SIZE)\n",
        "    testset = fds.load_split(\"test\").with_transform(apply_transforms)\n",
        "    testloader = DataLoader(testset, batch_size=BATCH_SIZE)\n",
        "    return trainloader, valloader, testloader"
      ]
    },
    {
      "cell_type": "markdown",
      "metadata": {
        "id": "OyV6x7CAI6EH"
      },
      "source": [
        "## Model training/evaluation (PyTorch)"
      ]
    },
    {
      "cell_type": "code",
      "execution_count": null,
      "metadata": {
        "id": "UkgcOZYyI6EH"
      },
      "outputs": [],
      "source": [
        "# class Net(nn.Module):\n",
        "\n",
        "#     def __init__(self) -> None:\n",
        "#         super(Net, self).__init__()\n",
        "#         self.layer1 = nn.Linear(28 * 28, 200)  # 28 x 28 pixels\n",
        "#         self.layer2 = nn.Linear(200, 200)  # 2 hidden layers with 200 neurons each\n",
        "#         self.layer3 = nn.Linear(200, 10)  # 10 classes\n",
        "#         self.relu = nn.ReLU()\n",
        "#         self.softmax = nn.Softmax(dim=1)\n",
        "\n",
        "#     def forward(self, x: torch.Tensor) -> torch.Tensor:\n",
        "#         x = self.relu(self.layer1(x))\n",
        "#         x = self.relu(self.layer2(x))\n",
        "#         x = self.softmax(self.layer3(x))\n",
        "#         return x\n",
        "\n",
        "class Net(KAN):\n",
        "    def __init__(self) -> None:\n",
        "        super().__init__([28 * 28, 64, 10])\n",
        "\n",
        "\n",
        "def get_parameters(net) -> List[np.ndarray]:\n",
        "    return [val.cpu().numpy() for _, val in net.state_dict().items()]\n",
        "\n",
        "\n",
        "def set_parameters(net, parameters: List[np.ndarray]):\n",
        "    params_dict = zip(net.state_dict().keys(), parameters)\n",
        "    state_dict = OrderedDict({k: torch.Tensor(v) for k, v in params_dict})\n",
        "    net.load_state_dict(state_dict, strict=True)\n",
        "\n",
        "\n",
        "def train(net, trainloader, epochs: int):\n",
        "    \"\"\"Train the network on the training set.\"\"\"\n",
        "    criterion = torch.nn.CrossEntropyLoss()\n",
        "    # Será que Adam e SGD influenciam a KAN? (SASSE)\n",
        "    # Estão usando o default para learning rate (lr) e momentum\n",
        "    # Um dos requisitos para garantir a convergencia é lr decrescente\n",
        "    optimizer = torch.optim.Adam(net.parameters())\n",
        "    net.train()\n",
        "    for epoch in range(epochs):\n",
        "        correct, total, epoch_loss = 0, 0, 0.0\n",
        "        for batch in trainloader:\n",
        "            images, labels = batch[\"image\"], batch[\"label\"]\n",
        "            images, labels = images.to(DEVICE), labels.to(DEVICE)\n",
        "            optimizer.zero_grad()\n",
        "            outputs = net(images)\n",
        "            loss = criterion(net(images), labels)\n",
        "            loss.backward()\n",
        "            optimizer.step()\n",
        "            # Metrics\n",
        "            epoch_loss += loss\n",
        "            total += labels.size(0)\n",
        "            correct += (torch.max(outputs.data, 1)[1] == labels).sum().item()\n",
        "        epoch_loss /= len(trainloader.dataset)\n",
        "        epoch_acc = correct / total\n",
        "        print(f\"Epoch {epoch+1}: train loss {epoch_loss}, accuracy {epoch_acc}\")\n",
        "\n",
        "\n",
        "def test(net, testloader):\n",
        "    \"\"\"Evaluate the network on the entire test set.\"\"\"\n",
        "    criterion = torch.nn.CrossEntropyLoss()\n",
        "    correct, total, loss = 0, 0, 0.0\n",
        "    net.eval()\n",
        "    with torch.no_grad():\n",
        "        for batch in testloader:\n",
        "            images, labels = batch[\"image\"], batch[\"label\"]\n",
        "            images, labels = images.to(DEVICE), labels.to(DEVICE)\n",
        "            outputs = net(images)\n",
        "            loss += criterion(outputs, labels).item()\n",
        "            _, predicted = torch.max(outputs.data, 1)\n",
        "            total += labels.size(0)\n",
        "            correct += (predicted == labels).sum().item()\n",
        "    loss /= len(testloader.dataset)\n",
        "    accuracy = correct / total\n",
        "    return loss, accuracy"
      ]
    },
    {
      "cell_type": "markdown",
      "source": [
        "KAN Model:"
      ],
      "metadata": {
        "id": "3G2tT2DnYos9"
      }
    },
    {
      "cell_type": "code",
      "source": [
        "pip install git+https://github.com/Blealtan/efficient-kan.git"
      ],
      "metadata": {
        "colab": {
          "base_uri": "https://localhost:8080/"
        },
        "collapsed": true,
        "id": "swBXPXzOYqY6",
        "outputId": "6a604ba5-fe79-434c-870f-e09268af1733"
      },
      "execution_count": null,
      "outputs": [
        {
          "output_type": "stream",
          "name": "stdout",
          "text": [
            "Collecting git+https://github.com/Blealtan/efficient-kan.git\n",
            "  Cloning https://github.com/Blealtan/efficient-kan.git to /tmp/pip-req-build-mkgni0oh\n",
            "  Running command git clone --filter=blob:none --quiet https://github.com/Blealtan/efficient-kan.git /tmp/pip-req-build-mkgni0oh\n",
            "  Resolved https://github.com/Blealtan/efficient-kan.git to commit 7b6ce1c87f18c8bc90c208f6b494042344216b11\n",
            "  Installing build dependencies ... \u001b[?25l\u001b[?25hdone\n",
            "  Getting requirements to build wheel ... \u001b[?25l\u001b[?25hdone\n",
            "  Preparing metadata (pyproject.toml) ... \u001b[?25l\u001b[?25hdone\n",
            "Requirement already satisfied: torch>=2.3.0 in /usr/local/lib/python3.10/dist-packages (from efficient-kan==0.1.0) (2.3.1+cu121)\n",
            "Collecting pytest>=8.2.0 (from efficient-kan==0.1.0)\n",
            "  Downloading pytest-8.3.2-py3-none-any.whl.metadata (7.5 kB)\n",
            "Requirement already satisfied: tqdm>=4.66.2 in /usr/local/lib/python3.10/dist-packages (from efficient-kan==0.1.0) (4.66.5)\n",
            "Requirement already satisfied: torchvision>=0.18.0 in /usr/local/lib/python3.10/dist-packages (from efficient-kan==0.1.0) (0.18.1+cu121)\n",
            "Requirement already satisfied: iniconfig in /usr/local/lib/python3.10/dist-packages (from pytest>=8.2.0->efficient-kan==0.1.0) (2.0.0)\n",
            "Requirement already satisfied: packaging in /usr/local/lib/python3.10/dist-packages (from pytest>=8.2.0->efficient-kan==0.1.0) (24.1)\n",
            "Requirement already satisfied: pluggy<2,>=1.5 in /usr/local/lib/python3.10/dist-packages (from pytest>=8.2.0->efficient-kan==0.1.0) (1.5.0)\n",
            "Requirement already satisfied: exceptiongroup>=1.0.0rc8 in /usr/local/lib/python3.10/dist-packages (from pytest>=8.2.0->efficient-kan==0.1.0) (1.2.2)\n",
            "Requirement already satisfied: tomli>=1 in /usr/local/lib/python3.10/dist-packages (from pytest>=8.2.0->efficient-kan==0.1.0) (2.0.1)\n",
            "Requirement already satisfied: filelock in /usr/local/lib/python3.10/dist-packages (from torch>=2.3.0->efficient-kan==0.1.0) (3.15.4)\n",
            "Requirement already satisfied: typing-extensions>=4.8.0 in /usr/local/lib/python3.10/dist-packages (from torch>=2.3.0->efficient-kan==0.1.0) (4.12.2)\n",
            "Requirement already satisfied: sympy in /usr/local/lib/python3.10/dist-packages (from torch>=2.3.0->efficient-kan==0.1.0) (1.13.2)\n",
            "Requirement already satisfied: networkx in /usr/local/lib/python3.10/dist-packages (from torch>=2.3.0->efficient-kan==0.1.0) (3.3)\n",
            "Requirement already satisfied: jinja2 in /usr/local/lib/python3.10/dist-packages (from torch>=2.3.0->efficient-kan==0.1.0) (3.1.4)\n",
            "Requirement already satisfied: fsspec in /usr/local/lib/python3.10/dist-packages (from torch>=2.3.0->efficient-kan==0.1.0) (2024.3.1)\n",
            "Requirement already satisfied: nvidia-cuda-nvrtc-cu12==12.1.105 in /usr/local/lib/python3.10/dist-packages (from torch>=2.3.0->efficient-kan==0.1.0) (12.1.105)\n",
            "Requirement already satisfied: nvidia-cuda-runtime-cu12==12.1.105 in /usr/local/lib/python3.10/dist-packages (from torch>=2.3.0->efficient-kan==0.1.0) (12.1.105)\n",
            "Requirement already satisfied: nvidia-cuda-cupti-cu12==12.1.105 in /usr/local/lib/python3.10/dist-packages (from torch>=2.3.0->efficient-kan==0.1.0) (12.1.105)\n",
            "Requirement already satisfied: nvidia-cudnn-cu12==8.9.2.26 in /usr/local/lib/python3.10/dist-packages (from torch>=2.3.0->efficient-kan==0.1.0) (8.9.2.26)\n",
            "Requirement already satisfied: nvidia-cublas-cu12==12.1.3.1 in /usr/local/lib/python3.10/dist-packages (from torch>=2.3.0->efficient-kan==0.1.0) (12.1.3.1)\n",
            "Requirement already satisfied: nvidia-cufft-cu12==11.0.2.54 in /usr/local/lib/python3.10/dist-packages (from torch>=2.3.0->efficient-kan==0.1.0) (11.0.2.54)\n",
            "Requirement already satisfied: nvidia-curand-cu12==10.3.2.106 in /usr/local/lib/python3.10/dist-packages (from torch>=2.3.0->efficient-kan==0.1.0) (10.3.2.106)\n",
            "Requirement already satisfied: nvidia-cusolver-cu12==11.4.5.107 in /usr/local/lib/python3.10/dist-packages (from torch>=2.3.0->efficient-kan==0.1.0) (11.4.5.107)\n",
            "Requirement already satisfied: nvidia-cusparse-cu12==12.1.0.106 in /usr/local/lib/python3.10/dist-packages (from torch>=2.3.0->efficient-kan==0.1.0) (12.1.0.106)\n",
            "Requirement already satisfied: nvidia-nccl-cu12==2.20.5 in /usr/local/lib/python3.10/dist-packages (from torch>=2.3.0->efficient-kan==0.1.0) (2.20.5)\n",
            "Requirement already satisfied: nvidia-nvtx-cu12==12.1.105 in /usr/local/lib/python3.10/dist-packages (from torch>=2.3.0->efficient-kan==0.1.0) (12.1.105)\n",
            "Requirement already satisfied: triton==2.3.1 in /usr/local/lib/python3.10/dist-packages (from torch>=2.3.0->efficient-kan==0.1.0) (2.3.1)\n",
            "Requirement already satisfied: nvidia-nvjitlink-cu12 in /usr/local/lib/python3.10/dist-packages (from nvidia-cusolver-cu12==11.4.5.107->torch>=2.3.0->efficient-kan==0.1.0) (12.6.20)\n",
            "Requirement already satisfied: numpy in /usr/local/lib/python3.10/dist-packages (from torchvision>=0.18.0->efficient-kan==0.1.0) (1.26.4)\n",
            "Requirement already satisfied: pillow!=8.3.*,>=5.3.0 in /usr/local/lib/python3.10/dist-packages (from torchvision>=0.18.0->efficient-kan==0.1.0) (9.4.0)\n",
            "Requirement already satisfied: MarkupSafe>=2.0 in /usr/local/lib/python3.10/dist-packages (from jinja2->torch>=2.3.0->efficient-kan==0.1.0) (2.1.5)\n",
            "Requirement already satisfied: mpmath<1.4,>=1.1.0 in /usr/local/lib/python3.10/dist-packages (from sympy->torch>=2.3.0->efficient-kan==0.1.0) (1.3.0)\n",
            "Downloading pytest-8.3.2-py3-none-any.whl (341 kB)\n",
            "\u001b[2K   \u001b[90m━━━━━━━━━━━━━━━━━━━━━━━━━━━━━━━━━━━━━━━━\u001b[0m \u001b[32m341.8/341.8 kB\u001b[0m \u001b[31m6.7 MB/s\u001b[0m eta \u001b[36m0:00:00\u001b[0m\n",
            "\u001b[?25hBuilding wheels for collected packages: efficient-kan\n",
            "  Building wheel for efficient-kan (pyproject.toml) ... \u001b[?25l\u001b[?25hdone\n",
            "  Created wheel for efficient-kan: filename=efficient_kan-0.1.0-py3-none-any.whl size=5732 sha256=3ef1a2ecc035552022ca1dbb071a4d2df50f59173e279c345e9b8afd624d4270\n",
            "  Stored in directory: /tmp/pip-ephem-wheel-cache-iraaez8k/wheels/b0/fb/12/d71ea36fa3e79f9e00b3d4c6ddd882c802d9a64f2ebe831866\n",
            "Successfully built efficient-kan\n",
            "Installing collected packages: pytest, efficient-kan\n",
            "  Attempting uninstall: pytest\n",
            "    Found existing installation: pytest 7.4.4\n",
            "    Uninstalling pytest-7.4.4:\n",
            "      Successfully uninstalled pytest-7.4.4\n",
            "Successfully installed efficient-kan-0.1.0 pytest-8.3.2\n"
          ]
        }
      ]
    },
    {
      "cell_type": "code",
      "source": [
        "from efficient_kan import KAN"
      ],
      "metadata": {
        "id": "6bVhUvw_YoUe"
      },
      "execution_count": null,
      "outputs": []
    },
    {
      "cell_type": "code",
      "source": [
        "KAN"
      ],
      "metadata": {
        "id": "ohQynPc7ZlMT"
      },
      "execution_count": null,
      "outputs": []
    },
    {
      "cell_type": "markdown",
      "source": [
        "## Flower Architecture"
      ],
      "metadata": {
        "id": "CnePIVzhvnwa"
      }
    },
    {
      "cell_type": "markdown",
      "metadata": {
        "id": "fa_57hXVI6EH"
      },
      "source": [
        "### Flower client"
      ]
    },
    {
      "cell_type": "code",
      "execution_count": null,
      "metadata": {
        "id": "vmaFziBmI6EH"
      },
      "outputs": [],
      "source": [
        "class FlowerClient(NumPyClient):\n",
        "    def __init__(self, pid, net, trainloader, valloader):\n",
        "        self.pid = pid  # partition ID of a client\n",
        "        self.net = net\n",
        "        self.trainloader = trainloader\n",
        "        self.valloader = valloader\n",
        "\n",
        "    def get_parameters(self, config):\n",
        "        print(f\"[Client {self.pid}] get_parameters\")\n",
        "        return get_parameters(self.net)\n",
        "\n",
        "    def fit(self, parameters, config):\n",
        "        # Read values from config\n",
        "        server_round = config[\"server_round\"]\n",
        "        local_epochs = config[\"local_epochs\"]\n",
        "\n",
        "        # Use values provided by the config\n",
        "        print(f\"[Client {self.pid}, round {server_round}] fit, config: {config}\")\n",
        "        set_parameters(self.net, parameters)\n",
        "        train(self.net, self.trainloader, epochs=local_epochs)\n",
        "        return get_parameters(self.net), len(self.trainloader), {}\n",
        "\n",
        "    def evaluate(self, parameters, config):\n",
        "        print(f\"[Client {self.pid}] evaluate, config: {config}\")\n",
        "        set_parameters(self.net, parameters)\n",
        "        loss, accuracy = test(self.net, self.valloader)\n",
        "        return float(loss), len(self.valloader), {\"accuracy\": float(accuracy)}\n",
        "\n",
        "\n",
        "def client_fn(context: Context) -> Client:\n",
        "    net = Net().to(DEVICE)\n",
        "    partition_id = context.node_config[\"partition-id\"]\n",
        "    num_partitions = context.node_config[\"num-partitions\"]\n",
        "    trainloader, valloader, _ = load_datasets(partition_id, num_partitions)\n",
        "    return FlowerClient(partition_id, net, trainloader, valloader).to_client()\n",
        "\n",
        "\n",
        "# Create the ClientApp\n",
        "client = ClientApp(client_fn=client_fn)"
      ]
    },
    {
      "cell_type": "markdown",
      "metadata": {
        "id": "G-JVaStsI6EI"
      },
      "source": [
        "### Server-side parameter **initialization**"
      ]
    },
    {
      "cell_type": "code",
      "execution_count": null,
      "metadata": {
        "id": "yXaOojMGI6EI"
      },
      "outputs": [],
      "source": [
        "# Create an instance of the model and get the parameters\n",
        "params = get_parameters(Net())"
      ]
    },
    {
      "cell_type": "markdown",
      "metadata": {
        "id": "i7EY7Ev5I6EJ"
      },
      "source": [
        "### Server-side parameter **evaluation**"
      ]
    },
    {
      "cell_type": "code",
      "execution_count": null,
      "metadata": {
        "id": "qIXUNjPsI6EJ"
      },
      "outputs": [],
      "source": [
        "# The `evaluate` function will be called by Flower after every round\n",
        "def evaluate(\n",
        "    server_round: int,\n",
        "    parameters: NDArrays,\n",
        "    config: Dict[str, Scalar],\n",
        ") -> Optional[Tuple[float, Dict[str, Scalar]]]:\n",
        "    net = Net().to(DEVICE)\n",
        "    _, _, testloader = load_datasets(0, NUM_PARTITIONS)\n",
        "    set_parameters(net, parameters)  # Update model with the latest parameters\n",
        "    loss, accuracy = test(net, testloader)\n",
        "    print(f\"Server-side evaluation loss {loss} / accuracy {accuracy}\")\n",
        "    return loss, {\"accuracy\": accuracy}"
      ]
    },
    {
      "cell_type": "markdown",
      "metadata": {
        "id": "Gttp2GVqI6EJ"
      },
      "source": [
        "### Training **Configuration** (e.g. epochs)\n",
        "\n",
        "\n"
      ]
    },
    {
      "cell_type": "code",
      "execution_count": null,
      "metadata": {
        "id": "vuHrYQVYI6EJ"
      },
      "outputs": [],
      "source": [
        "def fit_config(server_round: int):\n",
        "    \"\"\"Return training configuration dict for each round.\n",
        "\n",
        "    Perform two rounds of training with one local epoch, increase to two local\n",
        "    epochs afterwards.\n",
        "    \"\"\"\n",
        "    config = {\n",
        "        \"server_round\": server_round,  # The current round of federated learning\n",
        "        \"local_epochs\": 1 if server_round < 2 else 2,\n",
        "    }\n",
        "    return config"
      ]
    },
    {
      "cell_type": "markdown",
      "metadata": {
        "id": "uzF0C1qhI6EJ"
      },
      "source": [
        "### Flower **Server**"
      ]
    },
    {
      "cell_type": "code",
      "execution_count": null,
      "metadata": {
        "id": "SXvblF7nI6EJ",
        "collapsed": true
      },
      "outputs": [],
      "source": [
        "def server_fn(context: Context) -> ServerAppComponents:\n",
        "    # Create FedAvg strategy\n",
        "    strategy = FedAvg(\n",
        "        fraction_fit=0.3,\n",
        "        fraction_evaluate=0.3,\n",
        "        min_fit_clients=3,\n",
        "        min_evaluate_clients=3,\n",
        "        min_available_clients=NUM_PARTITIONS,\n",
        "        initial_parameters=ndarrays_to_parameters(params),\n",
        "        evaluate_fn=evaluate,\n",
        "        on_fit_config_fn=fit_config,  # Pass the fit_config function\n",
        "    )\n",
        "    config = ServerConfig(num_rounds=3)\n",
        "    return ServerAppComponents(strategy=strategy, config=config)\n",
        "\n",
        "\n",
        "# Create the ServerApp\n",
        "server = ServerApp(server_fn=server_fn)"
      ]
    },
    {
      "cell_type": "markdown",
      "source": [
        "## Simulation"
      ],
      "metadata": {
        "id": "GTENQaquvyQB"
      }
    },
    {
      "cell_type": "markdown",
      "source": [
        "### Run Simulation"
      ],
      "metadata": {
        "id": "097-NdhcvNJR"
      }
    },
    {
      "cell_type": "code",
      "source": [
        "NUM_PARTITIONS = 10"
      ],
      "metadata": {
        "id": "lw2O-ztPdLfl"
      },
      "execution_count": null,
      "outputs": []
    },
    {
      "cell_type": "code",
      "source": [
        "# Run simulation\n",
        "run_simulation(\n",
        "    server_app=server,\n",
        "    client_app=client,\n",
        "    num_supernodes=NUM_PARTITIONS,\n",
        "    backend_config=backend_config,\n",
        ")"
      ],
      "metadata": {
        "colab": {
          "base_uri": "https://localhost:8080/"
        },
        "id": "GRDtQsvsvMUN",
        "outputId": "b72ada53-57b0-4edb-cd2c-8b3cfddfd764"
      },
      "execution_count": null,
      "outputs": [
        {
          "output_type": "stream",
          "name": "stderr",
          "text": [
            "\u001b[92mINFO \u001b[0m:      Starting Flower ServerApp, config: num_rounds=3, no round_timeout\n",
            "\u001b[92mINFO \u001b[0m:      \n",
            "\u001b[92mINFO \u001b[0m:      [INIT]\n",
            "\u001b[92mINFO \u001b[0m:      Using initial global parameters provided by strategy\n",
            "\u001b[92mINFO \u001b[0m:      Evaluating initial global parameters\n",
            "/usr/lib/python3.10/subprocess.py:1796: RuntimeWarning: os.fork() was called. os.fork() is incompatible with multithreaded code, and JAX is multithreaded, so this will likely lead to a deadlock.\n",
            "  self.pid = _posixsubprocess.fork_exec(\n",
            "/usr/lib/python3.10/subprocess.py:1796: RuntimeWarning: os.fork() was called. os.fork() is incompatible with multithreaded code, and JAX is multithreaded, so this will likely lead to a deadlock.\n",
            "  self.pid = _posixsubprocess.fork_exec(\n",
            "\u001b[36m(pid=157070)\u001b[0m 2024-08-22 23:39:10.352060: E external/local_xla/xla/stream_executor/cuda/cuda_fft.cc:485] Unable to register cuFFT factory: Attempting to register factory for plugin cuFFT when one has already been registered\n",
            "\u001b[36m(pid=157070)\u001b[0m 2024-08-22 23:39:10.411109: E external/local_xla/xla/stream_executor/cuda/cuda_dnn.cc:8454] Unable to register cuDNN factory: Attempting to register factory for plugin cuDNN when one has already been registered\n",
            "\u001b[36m(pid=157070)\u001b[0m 2024-08-22 23:39:10.427705: E external/local_xla/xla/stream_executor/cuda/cuda_blas.cc:1452] Unable to register cuBLAS factory: Attempting to register factory for plugin cuBLAS when one has already been registered\n",
            "\u001b[36m(pid=157070)\u001b[0m 2024-08-22 23:39:13.472090: W tensorflow/compiler/tf2tensorrt/utils/py_utils.cc:38] TF-TRT Warning: Could not find TensorRT\n",
            "\u001b[92mINFO \u001b[0m:      initial parameters (loss, other metrics): 0.07205835869312287, {'accuracy': 0.1201}\n",
            "\u001b[92mINFO \u001b[0m:      \n",
            "\u001b[92mINFO \u001b[0m:      [ROUND 1]\n",
            "\u001b[92mINFO \u001b[0m:      configure_fit: strategy sampled 3 clients (out of 10)\n"
          ]
        },
        {
          "output_type": "stream",
          "name": "stdout",
          "text": [
            "Server-side evaluation loss 0.07205835869312287 / accuracy 0.1201\n"
          ]
        },
        {
          "output_type": "stream",
          "name": "stderr",
          "text": [
            "\u001b[36m(ClientAppActor pid=157070)\u001b[0m /usr/local/lib/python3.10/dist-packages/jupyter_client/connect.py:28: DeprecationWarning: Jupyter is migrating its paths to use standard platformdirs\n",
            "\u001b[36m(ClientAppActor pid=157070)\u001b[0m given by the platformdirs library.  To remove this warning and\n",
            "\u001b[36m(ClientAppActor pid=157070)\u001b[0m see the appropriate new directories, set the environment variable\n",
            "\u001b[36m(ClientAppActor pid=157070)\u001b[0m `JUPYTER_PLATFORM_DIRS=1` and then run `jupyter --paths`.\n",
            "\u001b[36m(ClientAppActor pid=157070)\u001b[0m The use of platformdirs will be the default in `jupyter_core` v6\n",
            "\u001b[36m(ClientAppActor pid=157070)\u001b[0m   from jupyter_core.paths import jupyter_data_dir, jupyter_runtime_dir, secure_write\n"
          ]
        },
        {
          "output_type": "stream",
          "name": "stdout",
          "text": [
            "\u001b[36m(ClientAppActor pid=157070)\u001b[0m [Client 0, round 1] fit, config: {'server_round': 1, 'local_epochs': 3}\n",
            "\u001b[36m(ClientAppActor pid=157070)\u001b[0m Epoch 1: train loss 0.028885068371891975, accuracy 0.7454166666666666\n",
            "\u001b[36m(ClientAppActor pid=157070)\u001b[0m Epoch 2: train loss 0.013063565827906132, accuracy 0.8835416666666667\n",
            "\u001b[36m(ClientAppActor pid=157070)\u001b[0m Epoch 3: train loss 0.010519752278923988, accuracy 0.9014583333333334\n",
            "\u001b[36m(ClientAppActor pid=157070)\u001b[0m [Client 3, round 1] fit, config: {'server_round': 1, 'local_epochs': 3}\n",
            "\u001b[36m(ClientAppActor pid=157070)\u001b[0m Epoch 1: train loss 0.02827400527894497, accuracy 0.7435416666666667\n",
            "\u001b[36m(ClientAppActor pid=157070)\u001b[0m Epoch 2: train loss 0.012408753857016563, accuracy 0.8902083333333334\n",
            "\u001b[36m(ClientAppActor pid=157070)\u001b[0m Epoch 3: train loss 0.009528066962957382, accuracy 0.9127083333333333\n",
            "\u001b[36m(ClientAppActor pid=157070)\u001b[0m [Client 5, round 1] fit, config: {'server_round': 1, 'local_epochs': 3}\n",
            "\u001b[36m(ClientAppActor pid=157070)\u001b[0m Epoch 1: train loss 0.02895170822739601, accuracy 0.7364583333333333\n",
            "\u001b[36m(ClientAppActor pid=157070)\u001b[0m Epoch 2: train loss 0.012277092784643173, accuracy 0.89\n",
            "\u001b[36m(ClientAppActor pid=157070)\u001b[0m Epoch 3: train loss 0.009536701254546642, accuracy 0.9175\n"
          ]
        },
        {
          "output_type": "stream",
          "name": "stderr",
          "text": [
            "\u001b[92mINFO \u001b[0m:      aggregate_fit: received 3 results and 0 failures\n",
            "\u001b[93mWARNING \u001b[0m:   No fit_metrics_aggregation_fn provided\n",
            "\u001b[92mINFO \u001b[0m:      fit progress: (1, 0.009746716725081206, {'accuracy': 0.909}, 85.01334493600007)\n",
            "\u001b[92mINFO \u001b[0m:      configure_evaluate: strategy sampled 3 clients (out of 10)\n"
          ]
        },
        {
          "output_type": "stream",
          "name": "stdout",
          "text": [
            "Server-side evaluation loss 0.009746716725081206 / accuracy 0.909\n",
            "\u001b[36m(ClientAppActor pid=157070)\u001b[0m [Client 8] evaluate, config: {}\n",
            "\u001b[36m(ClientAppActor pid=157070)\u001b[0m [Client 4] evaluate, config: {}\n",
            "\u001b[36m(ClientAppActor pid=157070)\u001b[0m [Client 6] evaluate, config: {}\n"
          ]
        },
        {
          "output_type": "stream",
          "name": "stderr",
          "text": [
            "\u001b[92mINFO \u001b[0m:      aggregate_evaluate: received 3 results and 0 failures\n",
            "\u001b[93mWARNING \u001b[0m:   No evaluate_metrics_aggregation_fn provided\n",
            "\u001b[92mINFO \u001b[0m:      \n",
            "\u001b[92mINFO \u001b[0m:      [ROUND 2]\n",
            "\u001b[92mINFO \u001b[0m:      configure_fit: strategy sampled 3 clients (out of 10)\n"
          ]
        },
        {
          "output_type": "stream",
          "name": "stdout",
          "text": [
            "\u001b[36m(ClientAppActor pid=157070)\u001b[0m [Client 3, round 2] fit, config: {'server_round': 2, 'local_epochs': 3}\n",
            "\u001b[36m(ClientAppActor pid=157070)\u001b[0m Epoch 1: train loss 0.009585177525877953, accuracy 0.91\n",
            "\u001b[36m(ClientAppActor pid=157070)\u001b[0m Epoch 2: train loss 0.007805875968188047, accuracy 0.9277083333333334\n",
            "\u001b[36m(ClientAppActor pid=157070)\u001b[0m Epoch 3: train loss 0.006518766283988953, accuracy 0.9408333333333333\n",
            "\u001b[36m(ClientAppActor pid=157070)\u001b[0m [Client 6, round 2] fit, config: {'server_round': 2, 'local_epochs': 3}\n",
            "\u001b[36m(ClientAppActor pid=157070)\u001b[0m Epoch 1: train loss 0.01050153374671936, accuracy 0.8910416666666666\n",
            "\u001b[36m(ClientAppActor pid=157070)\u001b[0m Epoch 2: train loss 0.008600138127803802, accuracy 0.916875\n",
            "\u001b[36m(ClientAppActor pid=157070)\u001b[0m Epoch 3: train loss 0.006984667852520943, accuracy 0.9354166666666667\n",
            "\u001b[36m(ClientAppActor pid=157070)\u001b[0m [Client 8, round 2] fit, config: {'server_round': 2, 'local_epochs': 3}\n",
            "\u001b[36m(ClientAppActor pid=157070)\u001b[0m Epoch 1: train loss 0.01063055545091629, accuracy 0.8979166666666667\n",
            "\u001b[36m(ClientAppActor pid=157070)\u001b[0m Epoch 2: train loss 0.008673473261296749, accuracy 0.9204166666666667\n",
            "\u001b[36m(ClientAppActor pid=157070)\u001b[0m Epoch 3: train loss 0.007224568631500006, accuracy 0.9366666666666666\n"
          ]
        },
        {
          "output_type": "stream",
          "name": "stderr",
          "text": [
            "\u001b[92mINFO \u001b[0m:      aggregate_fit: received 3 results and 0 failures\n",
            "\u001b[92mINFO \u001b[0m:      fit progress: (2, 0.007842272404953837, {'accuracy': 0.9287}, 171.77642727200146)\n",
            "\u001b[92mINFO \u001b[0m:      configure_evaluate: strategy sampled 3 clients (out of 10)\n"
          ]
        },
        {
          "output_type": "stream",
          "name": "stdout",
          "text": [
            "Server-side evaluation loss 0.007842272404953837 / accuracy 0.9287\n",
            "\u001b[36m(ClientAppActor pid=157070)\u001b[0m [Client 4] evaluate, config: {}\n",
            "\u001b[36m(ClientAppActor pid=157070)\u001b[0m [Client 5] evaluate, config: {}\n",
            "\u001b[36m(ClientAppActor pid=157070)\u001b[0m [Client 7] evaluate, config: {}\n"
          ]
        },
        {
          "output_type": "stream",
          "name": "stderr",
          "text": [
            "\u001b[92mINFO \u001b[0m:      aggregate_evaluate: received 3 results and 0 failures\n",
            "\u001b[92mINFO \u001b[0m:      \n",
            "\u001b[92mINFO \u001b[0m:      [ROUND 3]\n",
            "\u001b[92mINFO \u001b[0m:      configure_fit: strategy sampled 3 clients (out of 10)\n"
          ]
        },
        {
          "output_type": "stream",
          "name": "stdout",
          "text": [
            "\u001b[36m(ClientAppActor pid=157070)\u001b[0m [Client 6, round 3] fit, config: {'server_round': 3, 'local_epochs': 3}\n",
            "\u001b[36m(ClientAppActor pid=157070)\u001b[0m Epoch 1: train loss 0.00757924560457468, accuracy 0.92375\n",
            "\u001b[36m(ClientAppActor pid=157070)\u001b[0m Epoch 2: train loss 0.006012601312249899, accuracy 0.9433333333333334\n",
            "\u001b[36m(ClientAppActor pid=157070)\u001b[0m Epoch 3: train loss 0.0046373400837183, accuracy 0.9595833333333333\n",
            "\u001b[36m(ClientAppActor pid=157070)\u001b[0m [Client 7, round 3] fit, config: {'server_round': 3, 'local_epochs': 3}\n",
            "\u001b[36m(ClientAppActor pid=157070)\u001b[0m Epoch 1: train loss 0.008686114102602005, accuracy 0.9183333333333333\n",
            "\u001b[36m(ClientAppActor pid=157070)\u001b[0m Epoch 2: train loss 0.006823414005339146, accuracy 0.9377083333333334\n",
            "\u001b[36m(ClientAppActor pid=157070)\u001b[0m Epoch 3: train loss 0.005371880251914263, accuracy 0.9541666666666667\n",
            "\u001b[36m(ClientAppActor pid=157070)\u001b[0m [Client 8, round 3] fit, config: {'server_round': 3, 'local_epochs': 3}\n",
            "\u001b[36m(ClientAppActor pid=157070)\u001b[0m Epoch 1: train loss 0.007864835672080517, accuracy 0.920625\n",
            "\u001b[36m(ClientAppActor pid=157070)\u001b[0m Epoch 2: train loss 0.006199726834893227, accuracy 0.944375\n"
          ]
        },
        {
          "output_type": "stream",
          "name": "stderr",
          "text": [
            "\u001b[92mINFO \u001b[0m:      aggregate_fit: received 3 results and 0 failures\n"
          ]
        },
        {
          "output_type": "stream",
          "name": "stdout",
          "text": [
            "\u001b[36m(ClientAppActor pid=157070)\u001b[0m Epoch 3: train loss 0.005151687655597925, accuracy 0.9535416666666666\n"
          ]
        },
        {
          "output_type": "stream",
          "name": "stderr",
          "text": [
            "\u001b[92mINFO \u001b[0m:      fit progress: (3, 0.006593332336656749, {'accuracy': 0.9386}, 255.52648013900034)\n",
            "\u001b[92mINFO \u001b[0m:      configure_evaluate: strategy sampled 3 clients (out of 10)\n"
          ]
        },
        {
          "output_type": "stream",
          "name": "stdout",
          "text": [
            "Server-side evaluation loss 0.006593332336656749 / accuracy 0.9386\n",
            "\u001b[36m(ClientAppActor pid=157070)\u001b[0m [Client 2] evaluate, config: {}\n",
            "\u001b[36m(ClientAppActor pid=157070)\u001b[0m [Client 3] evaluate, config: {}\n",
            "\u001b[36m(ClientAppActor pid=157070)\u001b[0m [Client 6] evaluate, config: {}\n"
          ]
        },
        {
          "output_type": "stream",
          "name": "stderr",
          "text": [
            "\u001b[92mINFO \u001b[0m:      aggregate_evaluate: received 3 results and 0 failures\n",
            "\u001b[92mINFO \u001b[0m:      \n",
            "\u001b[92mINFO \u001b[0m:      [SUMMARY]\n",
            "\u001b[92mINFO \u001b[0m:      Run finished 3 round(s) in 265.57s\n",
            "\u001b[92mINFO \u001b[0m:      \tHistory (loss, distributed):\n",
            "\u001b[92mINFO \u001b[0m:      \t\tround 1: 0.010639411028888492\n",
            "\u001b[92mINFO \u001b[0m:      \t\tround 2: 0.00832694680016074\n",
            "\u001b[92mINFO \u001b[0m:      \t\tround 3: 0.006698395094523827\n",
            "\u001b[92mINFO \u001b[0m:      \tHistory (loss, centralized):\n",
            "\u001b[92mINFO \u001b[0m:      \t\tround 0: 0.07205835869312287\n",
            "\u001b[92mINFO \u001b[0m:      \t\tround 1: 0.009746716725081206\n",
            "\u001b[92mINFO \u001b[0m:      \t\tround 2: 0.007842272404953837\n",
            "\u001b[92mINFO \u001b[0m:      \t\tround 3: 0.006593332336656749\n",
            "\u001b[92mINFO \u001b[0m:      \tHistory (metrics, centralized):\n",
            "\u001b[92mINFO \u001b[0m:      \t{'accuracy': [(0, 0.1201), (1, 0.909), (2, 0.9287), (3, 0.9386)]}\n",
            "\u001b[92mINFO \u001b[0m:      \n"
          ]
        }
      ]
    }
  ],
  "metadata": {
    "colab": {
      "provenance": [],
      "include_colab_link": true
    },
    "kernelspec": {
      "display_name": "Python 3.7.12 64-bit ('flower-3.7.12')",
      "language": "python",
      "name": "python3"
    }
  },
  "nbformat": 4,
  "nbformat_minor": 0
}